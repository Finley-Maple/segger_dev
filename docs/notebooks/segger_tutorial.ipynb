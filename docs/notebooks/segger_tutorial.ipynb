{
 "cells": [
  {
   "cell_type": "markdown",
   "id": "21ed4db6-5234-46b1-9f38-b5883ac88946",
   "metadata": {
    "execution": {
     "iopub.execute_input": "2024-09-11T22:22:55.404267Z",
     "iopub.status.busy": "2024-09-11T22:22:55.403876Z",
     "iopub.status.idle": "2024-09-11T22:22:58.089917Z",
     "shell.execute_reply": "2024-09-11T22:22:58.089303Z",
     "shell.execute_reply.started": "2024-09-11T22:22:55.404248Z"
    },
    "id": "21ed4db6-5234-46b1-9f38-b5883ac88946"
   },
   "source": [
    "# **Introduction to Segger**\n",
    "\n",
    "\n",
    "**Important note (Dec 2024):** As segger is currently undergoing constant development we highly recommend installing directly via github.\n",
    "\n",
    "\n",
    "Segger is a cutting-edge cell segmentation model specifically designed for **single-molecule resolved spatial omics** datasets. It addresses the challenge of accurately segmenting individual cells in complex imaging datasets, leveraging a unique approach based on graph neural networks (GNNs).\n",
    "\n",
    "The core idea behind Segger is to model both **nuclei** and **transcripts** as graph nodes, with edges connecting them based on their spatial proximity. This allows the model to learn from the co-occurrence of nucleic and cytoplasmic molecules, resulting in more refined and accurate cell boundaries. By using spatial information and GNNs, Segger achieves state-of-the-art performance in segmenting single cells in datasets such as 10X Xenium and MERSCOPE, outperforming traditional methods like Baysor and Cellpose.\n",
    "\n",
    "Segger's workflow consists of:\n",
    "1. **Dataset creation**: Converting raw transcriptomic data into a graph-based dataset.\n",
    "2. **Training**: Training the Segger model on the graph to learn cell boundaries.\n",
    "3. **Prediction**: Using the trained model to make predictions on new datasets.\n",
    "\n",
    "This tutorial will guide you through each step of the process, ensuring you can train and apply Segger for your own data."
   ]
  },
  {
   "cell_type": "markdown",
   "id": "XEY6CTzK0648",
   "metadata": {
    "id": "XEY6CTzK0648"
   },
   "source": [
    "Installing segger from the GitHub repository:"
   ]
  },
  {
   "cell_type": "code",
   "execution_count": null,
   "id": "TIQnPzfx08Zr",
   "metadata": {
    "id": "TIQnPzfx08Zr"
   },
   "outputs": [],
   "source": [
    "!git clone https://github.com/EliHei2/segger_dev.git\n",
    "%cd segger_dev\n",
    "!pip install \".[rapids12]\" -q"
   ]
  },
  {
   "cell_type": "markdown",
   "id": "q3SNnImS09_N",
   "metadata": {
    "id": "q3SNnImS09_N"
   },
   "source": [
    "Downloading the [Xenium Human Pancreatic Dataset](https://www.10xgenomics.com/products/xenium-human-pancreatic-dataset-explorer):"
   ]
  },
  {
   "cell_type": "code",
   "execution_count": 1,
   "id": "Qjdt3f-U0_i9",
   "metadata": {
    "id": "Qjdt3f-U0_i9"
   },
   "outputs": [
    {
     "name": "stdout",
     "output_type": "stream",
     "text": [
      "mkdir: 无法创建目录\"data_xenium\": 文件已存在\n",
      "/home/cuisen/users/fengyun/segger/docs/notebooks/data_xenium\n",
      "Archive:  Xenium_V1_hPancreas_Cancer_Add_on_FFPE_outs.zip\n",
      "  inflating: analysis_summary.html   \n",
      "  inflating: nucleus_boundaries.parquet  "
     ]
    },
    {
     "name": "stderr",
     "output_type": "stream",
     "text": [
      "/home/cuisen/miniconda3/envs/fengyun/lib/python3.11/site-packages/IPython/core/magics/osm.py:417: UserWarning: This is now an optional IPython functionality, setting dhist requires you to install the `pickleshare` library.\n",
      "  self.shell.db['dhist'] = compress_dhist(dhist)[-100:]\n"
     ]
    },
    {
     "name": "stdout",
     "output_type": "stream",
     "text": [
      "\n",
      "  inflating: cell_boundaries.parquet  \n",
      "  inflating: cells.csv.gz            \n",
      "  inflating: gene_panel.json         \n",
      "  inflating: morphology_focus.ome.tif  \n",
      " extracting: cell_feature_matrix.zarr.zip  \n",
      " extracting: transcripts.zarr.zip    \n",
      "  inflating: cell_feature_matrix.h5  \n",
      "  inflating: cells.parquet           \n",
      "  inflating: morphology_mip.ome.tif  \n",
      " extracting: analysis.zarr.zip       \n",
      " extracting: cells.zarr.zip          \n",
      "  inflating: morphology.ome.tif      \n",
      "  inflating: transcripts.csv.gz      \n",
      "  inflating: cell_boundaries.csv.gz  \n",
      "  inflating: nucleus_boundaries.csv.gz  \n",
      "  inflating: experiment.xenium       \n",
      "  inflating: transcripts.parquet     \n",
      "  inflating: analysis.tar.gz         \n",
      "  inflating: cell_feature_matrix.tar.gz  \n",
      "  inflating: he_imagealignment.csv   \n",
      "  inflating: cell_groups.csv         \n",
      "  inflating: gene_groups.csv         \n",
      "  inflating: metrics_summary.csv     \n",
      "/home/cuisen/users/fengyun/segger/docs/notebooks\n"
     ]
    }
   ],
   "source": [
    "!mkdir data_xenium\n",
    "%cd data_xenium\n",
    "#!wget https://cf.10xgenomics.com/samples/xenium/1.6.0/Xenium_V1_hPancreas_Cancer_Add_on_FFPE/Xenium_V1_hPancreas_Cancer_Add_on_FFPE_outs.zip\n",
    "!unzip Xenium_V1_hPancreas_Cancer_Add_on_FFPE_outs.zip\n",
    "%cd .."
   ]
  },
  {
   "cell_type": "code",
   "execution_count": 1,
   "id": "trM8h-Ek16sJ",
   "metadata": {
    "id": "trM8h-Ek16sJ"
   },
   "outputs": [],
   "source": [
    "from segger.data.parquet.sample import STSampleParquet\n",
    "from segger.training.segger_data_module import SeggerDataModule\n",
    "from segger.training.train import LitSegger\n",
    "#from segger.prediction.predict_parquet import segment, load_model\n",
    "from lightning.pytorch.loggers import CSVLogger\n",
    "from lightning.pytorch import Trainer\n",
    "from pathlib import Path\n",
    "import pandas as pd\n",
    "from matplotlib import pyplot as plt\n",
    "import seaborn as sns\n",
    "import scanpy as sc"
   ]
  },
  {
   "cell_type": "markdown",
   "id": "db009015-c379-4f50-97ed-81dca9df28ac",
   "metadata": {
    "id": "db009015-c379-4f50-97ed-81dca9df28ac"
   },
   "source": [
    "# **1. Create your Segger Dataset**\n",
    "\n",
    "In this step, we generate the dataset required for Segger's cell segmentation tasks.\n",
    "\n",
    "Segger relies on spatial transcriptomics data, combining staining **boundaries** (e.g., nuclei or membrane stainings) and **transcripts** from single-cell resolved imaging datasets. These nuclei and transcript nodes are represented in a graph, and the spatial proximity of transcripts to nuclei is used to establish edges between them.\n",
    "\n",
    "To use Segger with a Xenium dataset, you need the **`transcripts.parquet`** and **`nucleus_boundaries.parquet`** (or **`cell_boundaries.parquet`**, in case the Xenium samples comes with the segmentation kit) files. The **transcripts** file contains spatial coordinates and information for each transcript, while the **boundaries** file defines the polygon boundaries of the nuclei or cells. These files enable segger to map transcripts to their respective nuclei and perform cell segmentation based on spatial relationships. Segger can also be extended to other platforms by modifying the column names or formats in the input files to match its expected structure, making it adaptable for various spatial transcriptomics technologies. See [this](https://github.com/EliHei2/segger_dev/tree/main/src/segger/data/parquet/_settings) for Xenium settings."
   ]
  },
  {
   "cell_type": "markdown",
   "id": "9d2b090b",
   "metadata": {
    "id": "9d2b090b"
   },
   "source": [
    "### **1.1. Fast Dataset Creation with segger**\n",
    "\n",
    "Segger introduces a fast and efficient pipeline for processing spatial transcriptomics data. This method accelerates dataset creation, particularly for large datasets, by using **ND-tree-based spatial partitioning** and **parallel processing**. This results in a much faster preparation of the dataset, which is saved in PyTorch Geometric (PyG) format, similar to the previous method.\n",
    "\n",
    "**Note**: The previous dataset creation method will soon be deprecated in favor of this optimized pipeline.\n",
    "\n",
    "The pipeline requires the following inputs:\n",
    "\n",
    "- **base_dir**: The directory containing the raw dataset.\n",
    "- **data_dir**: The directory where the processed dataset (tiles in PyG format) will be saved.\n",
    "\n",
    "The core improvements in this method come from the use of **ND-tree partitioning**, which splits the data efficiently into spatial regions, and **parallel processing**, which speeds up the handling of these regions across multiple CPU cores. For example, using this pipeline, the Xenium Human Pancreatic Dataset can be processed in just a few minutes when running with 16 workers.\n",
    "\n",
    "Below is an example of how to create a dataset using the faster Segger pipeline:"
   ]
  },
  {
   "cell_type": "code",
   "execution_count": 2,
   "id": "e933ebf3",
   "metadata": {
    "id": "e933ebf3",
    "scrolled": true
   },
   "outputs": [
    {
     "ename": "AssertionError",
     "evalue": "Directory 'data_segger/train_tiles/processed' must be empty.",
     "output_type": "error",
     "traceback": [
      "\u001b[0;31m---------------------------------------------------------------------------\u001b[0m",
      "\u001b[0;31mAssertionError\u001b[0m                            Traceback (most recent call last)",
      "Cell \u001b[0;32mIn[2], line 11\u001b[0m\n\u001b[1;32m      2\u001b[0m segger_data_dir \u001b[38;5;241m=\u001b[39m Path(\u001b[38;5;124m'\u001b[39m\u001b[38;5;124mdata_segger\u001b[39m\u001b[38;5;124m'\u001b[39m)\n\u001b[1;32m      4\u001b[0m sample \u001b[38;5;241m=\u001b[39m STSampleParquet(\n\u001b[1;32m      5\u001b[0m     base_dir\u001b[38;5;241m=\u001b[39mxenium_data_dir,\n\u001b[1;32m      6\u001b[0m     n_workers\u001b[38;5;241m=\u001b[39m\u001b[38;5;241m4\u001b[39m,\n\u001b[1;32m      7\u001b[0m     sample_type\u001b[38;5;241m=\u001b[39m\u001b[38;5;124m'\u001b[39m\u001b[38;5;124mxenium\u001b[39m\u001b[38;5;124m'\u001b[39m, \u001b[38;5;66;03m# this could be 'xenium_v2' in case one uses the cell boundaries from the segmentation kit.\u001b[39;00m\n\u001b[1;32m      8\u001b[0m     \u001b[38;5;66;03m# weights=gene_celltype_abundance_embedding, # uncomment if gene-celltype embeddings are available\u001b[39;00m\n\u001b[1;32m      9\u001b[0m )\n\u001b[0;32m---> 11\u001b[0m sample\u001b[38;5;241m.\u001b[39msave(\n\u001b[1;32m     12\u001b[0m       data_dir\u001b[38;5;241m=\u001b[39msegger_data_dir,\n\u001b[1;32m     13\u001b[0m       k_bd\u001b[38;5;241m=\u001b[39m\u001b[38;5;241m3\u001b[39m,\n\u001b[1;32m     14\u001b[0m       dist_bd\u001b[38;5;241m=\u001b[39m\u001b[38;5;241m15.0\u001b[39m,\n\u001b[1;32m     15\u001b[0m       k_tx\u001b[38;5;241m=\u001b[39m\u001b[38;5;241m3\u001b[39m,\n\u001b[1;32m     16\u001b[0m       dist_tx\u001b[38;5;241m=\u001b[39m\u001b[38;5;241m5.0\u001b[39m,\n\u001b[1;32m     17\u001b[0m       tile_width\u001b[38;5;241m=\u001b[39m\u001b[38;5;241m120\u001b[39m,\n\u001b[1;32m     18\u001b[0m       tile_height\u001b[38;5;241m=\u001b[39m\u001b[38;5;241m120\u001b[39m,\n\u001b[1;32m     19\u001b[0m       neg_sampling_ratio\u001b[38;5;241m=\u001b[39m\u001b[38;5;241m5.0\u001b[39m,\n\u001b[1;32m     20\u001b[0m       frac\u001b[38;5;241m=\u001b[39m\u001b[38;5;241m1.0\u001b[39m,\n\u001b[1;32m     21\u001b[0m       val_prob\u001b[38;5;241m=\u001b[39m\u001b[38;5;241m0.1\u001b[39m,\n\u001b[1;32m     22\u001b[0m       test_prob\u001b[38;5;241m=\u001b[39m\u001b[38;5;241m0.2\u001b[39m,\n\u001b[1;32m     23\u001b[0m )\n",
      "File \u001b[0;32m~/users/fengyun/segger/src/segger/data/parquet/sample.py:434\u001b[0m, in \u001b[0;36mSTSampleParquet.save\u001b[0;34m(self, data_dir, k_bd, dist_bd, k_tx, dist_tx, tile_size, tile_width, tile_height, neg_sampling_ratio, frac, val_prob, test_prob)\u001b[0m\n\u001b[1;32m    432\u001b[0m \u001b[38;5;66;03m# Setup directory structure to save tiles\u001b[39;00m\n\u001b[1;32m    433\u001b[0m data_dir \u001b[38;5;241m=\u001b[39m Path(data_dir)\n\u001b[0;32m--> 434\u001b[0m STSampleParquet\u001b[38;5;241m.\u001b[39m_setup_directory(data_dir)\n\u001b[1;32m    436\u001b[0m \u001b[38;5;66;03m# Function to parallelize over workers\u001b[39;00m\n\u001b[1;32m    437\u001b[0m \u001b[38;5;28;01mdef\u001b[39;00m\u001b[38;5;250m \u001b[39m\u001b[38;5;21mfunc\u001b[39m(region):\n",
      "File \u001b[0;32m~/users/fengyun/segger/src/segger/data/parquet/sample.py:339\u001b[0m, in \u001b[0;36mSTSampleParquet._setup_directory\u001b[0;34m(data_dir)\u001b[0m\n\u001b[1;32m    337\u001b[0m \u001b[38;5;28;01mif\u001b[39;00m os\u001b[38;5;241m.\u001b[39mlistdir(tile_dir):\n\u001b[1;32m    338\u001b[0m     msg \u001b[38;5;241m=\u001b[39m \u001b[38;5;124mf\u001b[39m\u001b[38;5;124m\"\u001b[39m\u001b[38;5;124mDirectory \u001b[39m\u001b[38;5;124m'\u001b[39m\u001b[38;5;132;01m{\u001b[39;00mtile_dir\u001b[38;5;132;01m}\u001b[39;00m\u001b[38;5;124m'\u001b[39m\u001b[38;5;124m must be empty.\u001b[39m\u001b[38;5;124m\"\u001b[39m\n\u001b[0;32m--> 339\u001b[0m     \u001b[38;5;28;01mraise\u001b[39;00m \u001b[38;5;167;01mAssertionError\u001b[39;00m(msg)\n",
      "\u001b[0;31mAssertionError\u001b[0m: Directory 'data_segger/train_tiles/processed' must be empty."
     ]
    }
   ],
   "source": [
    "xenium_data_dir = Path('data_xenium')\n",
    "segger_data_dir = Path('data_segger')\n",
    "\n",
    "sample = STSampleParquet(\n",
    "    base_dir=xenium_data_dir,\n",
    "    n_workers=4,\n",
    "    sample_type='xenium', # this could be 'xenium_v2' in case one uses the cell boundaries from the segmentation kit.\n",
    "    # weights=gene_celltype_abundance_embedding, # uncomment if gene-celltype embeddings are available\n",
    ")\n",
    "\n",
    "sample.save(\n",
    "      data_dir=segger_data_dir,\n",
    "      k_bd=3,\n",
    "      dist_bd=15.0,\n",
    "      k_tx=3,\n",
    "      dist_tx=5.0,\n",
    "      tile_width=120,\n",
    "      tile_height=120,\n",
    "      neg_sampling_ratio=5.0,\n",
    "      frac=1.0,\n",
    "      val_prob=0.1,\n",
    "      test_prob=0.2,\n",
    ")"
   ]
  },
  {
   "cell_type": "markdown",
   "id": "6ab27f9a",
   "metadata": {
    "id": "6ab27f9a"
   },
   "source": [
    "#### **Parameters**\n",
    "Here is a complete list of parameters you can use to control the dataset creation process:\n",
    "\n",
    "- **--base_dir**: Directory containing the raw spatial transcriptomics dataset.\n",
    "- **--data_dir**: Directory where the processed Segger dataset (in PyG format) will be saved.\n",
    "- **--sample_type**: (Optional) Specifies the type of dataset (e.g., \"xenium\" or \"merscope\"). Defaults to None.\n",
    "- **--scrnaseq_file**: Path to the scRNAseq file (default: None).\n",
    "- **--celltype_column**: Column name for cell type annotations in the scRNAseq file (default: None).\n",
    "- **--k_bd**: Number of nearest neighbors for boundary nodes (default: 3).\n",
    "- **--dist_bd**: Maximum distance for boundary neighbors (default: 15.0).\n",
    "- **--k_tx**: Number of nearest neighbors for transcript nodes (default: 3).\n",
    "- **--dist_tx**: Maximum distance for transcript neighbors (default: 5.0).\n",
    "- **--tile_size**: Specifies the size of the tile. If provided, it overrides both tile_width and tile_height.\n",
    "- **--tile_width**: Width of the tiles in pixels (ignored if tile_size is provided).\n",
    "- **--tile_height**: Height of the tiles in pixels (ignored if tile_size is provided).\n",
    "- **--neg_sampling_ratio**: Ratio of negative samples (default: 5.0).\n",
    "- **--frac**: Fraction of the dataset to process (default: 1.0).\n",
    "- **--val_prob**: Proportion of data used for validation split (default: 0.1).\n",
    "- **--test_prob**: Proportion of data used for testing split (default: 0.2).\n",
    "- **--n_workers**: Number of workers for parallel processing (default: 1)."
   ]
  },
  {
   "cell_type": "markdown",
   "id": "70755046",
   "metadata": {},
   "source": [
    "### **1.2. Using custom gene embeddings**\n",
    "\n",
    "In the default mode, segger initially tokenizes transcripts based on their gene type simply in a one-hot manner. However, one can use other genes embeddings (e.g., pre-trained embeddings). The following example shows how one can employ a cell-type-annotated scRNAseq reference of the same tissue type (not necessary same sample or experiment) to embed genes based on their abaundance in different cell types:"
   ]
  },
  {
   "cell_type": "code",
   "execution_count": 4,
   "id": "3bf18259",
   "metadata": {
    "scrolled": true
   },
   "outputs": [
    {
     "ename": "FileNotFoundError",
     "evalue": "[Errno 2] Unable to synchronously open file (unable to open file: name = 'my_scRNAseq_file.h5ad', errno = 2, error message = 'No such file or directory', flags = 0, o_flags = 0)",
     "output_type": "error",
     "traceback": [
      "\u001b[0;31m---------------------------------------------------------------------------\u001b[0m",
      "\u001b[0;31mFileNotFoundError\u001b[0m                         Traceback (most recent call last)",
      "Cell \u001b[0;32mIn[4], line 5\u001b[0m\n\u001b[1;32m      2\u001b[0m scrnaseq_file \u001b[38;5;241m=\u001b[39m Path(\u001b[38;5;124m'\u001b[39m\u001b[38;5;124mmy_scRNAseq_file.h5ad\u001b[39m\u001b[38;5;124m'\u001b[39m)\n\u001b[1;32m      3\u001b[0m celltype_column \u001b[38;5;241m=\u001b[39m \u001b[38;5;124m'\u001b[39m\u001b[38;5;124mcelltype_column\u001b[39m\u001b[38;5;124m'\u001b[39m\n\u001b[1;32m      4\u001b[0m gene_celltype_abundance_embedding \u001b[38;5;241m=\u001b[39m calculate_gene_celltype_abundance_embedding(\n\u001b[0;32m----> 5\u001b[0m     sc\u001b[38;5;241m.\u001b[39mread(scrnaseq_file),\n\u001b[1;32m      6\u001b[0m     celltype_column\n\u001b[1;32m      7\u001b[0m )\n\u001b[1;32m      9\u001b[0m sample \u001b[38;5;241m=\u001b[39m STSampleParquet(\n\u001b[1;32m     10\u001b[0m     base_dir\u001b[38;5;241m=\u001b[39mxenium_data_dir,\n\u001b[1;32m     11\u001b[0m     n_workers\u001b[38;5;241m=\u001b[39m\u001b[38;5;241m4\u001b[39m,\n\u001b[1;32m     12\u001b[0m     sample_type\u001b[38;5;241m=\u001b[39m\u001b[38;5;124m'\u001b[39m\u001b[38;5;124mxenium\u001b[39m\u001b[38;5;124m'\u001b[39m, \u001b[38;5;66;03m# this could be 'xenium_v2' in case one uses the cell boundaries from the segmentation kit.\u001b[39;00m\n\u001b[1;32m     13\u001b[0m     weights\u001b[38;5;241m=\u001b[39mgene_celltype_abundance_embedding, \n\u001b[1;32m     14\u001b[0m )\n",
      "File \u001b[0;32m~/miniconda3/envs/fengyun/lib/python3.11/site-packages/legacy_api_wrap/__init__.py:82\u001b[0m, in \u001b[0;36mlegacy_api.<locals>.wrapper.<locals>.fn_compatible\u001b[0;34m(*args_all, **kw)\u001b[0m\n\u001b[1;32m     79\u001b[0m \u001b[38;5;129m@wraps\u001b[39m(fn)\n\u001b[1;32m     80\u001b[0m \u001b[38;5;28;01mdef\u001b[39;00m\u001b[38;5;250m \u001b[39m\u001b[38;5;21mfn_compatible\u001b[39m(\u001b[38;5;241m*\u001b[39margs_all: P\u001b[38;5;241m.\u001b[39margs, \u001b[38;5;241m*\u001b[39m\u001b[38;5;241m*\u001b[39mkw: P\u001b[38;5;241m.\u001b[39mkwargs) \u001b[38;5;241m-\u001b[39m\u001b[38;5;241m>\u001b[39m R:\n\u001b[1;32m     81\u001b[0m     \u001b[38;5;28;01mif\u001b[39;00m \u001b[38;5;28mlen\u001b[39m(args_all) \u001b[38;5;241m<\u001b[39m\u001b[38;5;241m=\u001b[39m n_positional:\n\u001b[0;32m---> 82\u001b[0m         \u001b[38;5;28;01mreturn\u001b[39;00m fn(\u001b[38;5;241m*\u001b[39margs_all, \u001b[38;5;241m*\u001b[39m\u001b[38;5;241m*\u001b[39mkw)\n\u001b[1;32m     84\u001b[0m     args_pos: P\u001b[38;5;241m.\u001b[39margs\n\u001b[1;32m     85\u001b[0m     args_pos, args_rest \u001b[38;5;241m=\u001b[39m args_all[:n_positional], args_all[n_positional:]\n",
      "File \u001b[0;32m~/miniconda3/envs/fengyun/lib/python3.11/site-packages/scanpy/readwrite.py:143\u001b[0m, in \u001b[0;36mread\u001b[0;34m(filename, backed, sheet, ext, delimiter, first_column_names, backup_url, cache, cache_compression, **kwargs)\u001b[0m\n\u001b[1;32m    141\u001b[0m filename \u001b[38;5;241m=\u001b[39m Path(filename)  \u001b[38;5;66;03m# allow passing strings\u001b[39;00m\n\u001b[1;32m    142\u001b[0m \u001b[38;5;28;01mif\u001b[39;00m is_valid_filename(filename):\n\u001b[0;32m--> 143\u001b[0m     \u001b[38;5;28;01mreturn\u001b[39;00m _read(\n\u001b[1;32m    144\u001b[0m         filename,\n\u001b[1;32m    145\u001b[0m         backed\u001b[38;5;241m=\u001b[39mbacked,\n\u001b[1;32m    146\u001b[0m         sheet\u001b[38;5;241m=\u001b[39msheet,\n\u001b[1;32m    147\u001b[0m         ext\u001b[38;5;241m=\u001b[39mext,\n\u001b[1;32m    148\u001b[0m         delimiter\u001b[38;5;241m=\u001b[39mdelimiter,\n\u001b[1;32m    149\u001b[0m         first_column_names\u001b[38;5;241m=\u001b[39mfirst_column_names,\n\u001b[1;32m    150\u001b[0m         backup_url\u001b[38;5;241m=\u001b[39mbackup_url,\n\u001b[1;32m    151\u001b[0m         cache\u001b[38;5;241m=\u001b[39mcache,\n\u001b[1;32m    152\u001b[0m         cache_compression\u001b[38;5;241m=\u001b[39mcache_compression,\n\u001b[1;32m    153\u001b[0m         \u001b[38;5;241m*\u001b[39m\u001b[38;5;241m*\u001b[39mkwargs,\n\u001b[1;32m    154\u001b[0m     )\n\u001b[1;32m    155\u001b[0m \u001b[38;5;66;03m# generate filename and read to dict\u001b[39;00m\n\u001b[1;32m    156\u001b[0m filekey \u001b[38;5;241m=\u001b[39m \u001b[38;5;28mstr\u001b[39m(filename)\n",
      "File \u001b[0;32m~/miniconda3/envs/fengyun/lib/python3.11/site-packages/scanpy/readwrite.py:787\u001b[0m, in \u001b[0;36m_read\u001b[0;34m(filename, backed, sheet, ext, delimiter, first_column_names, backup_url, cache, cache_compression, suppress_cache_warning, **kwargs)\u001b[0m\n\u001b[1;32m    785\u001b[0m \u001b[38;5;28;01mif\u001b[39;00m ext \u001b[38;5;129;01min\u001b[39;00m {\u001b[38;5;124m\"\u001b[39m\u001b[38;5;124mh5\u001b[39m\u001b[38;5;124m\"\u001b[39m, \u001b[38;5;124m\"\u001b[39m\u001b[38;5;124mh5ad\u001b[39m\u001b[38;5;124m\"\u001b[39m}:\n\u001b[1;32m    786\u001b[0m     \u001b[38;5;28;01mif\u001b[39;00m sheet \u001b[38;5;129;01mis\u001b[39;00m \u001b[38;5;28;01mNone\u001b[39;00m:\n\u001b[0;32m--> 787\u001b[0m         \u001b[38;5;28;01mreturn\u001b[39;00m read_h5ad(filename, backed\u001b[38;5;241m=\u001b[39mbacked)\n\u001b[1;32m    788\u001b[0m     \u001b[38;5;28;01melse\u001b[39;00m:\n\u001b[1;32m    789\u001b[0m         logg\u001b[38;5;241m.\u001b[39mdebug(\u001b[38;5;124mf\u001b[39m\u001b[38;5;124m\"\u001b[39m\u001b[38;5;124mreading sheet \u001b[39m\u001b[38;5;132;01m{\u001b[39;00msheet\u001b[38;5;132;01m}\u001b[39;00m\u001b[38;5;124m from file \u001b[39m\u001b[38;5;132;01m{\u001b[39;00mfilename\u001b[38;5;132;01m}\u001b[39;00m\u001b[38;5;124m\"\u001b[39m)\n",
      "File \u001b[0;32m~/miniconda3/envs/fengyun/lib/python3.11/site-packages/anndata/_io/h5ad.py:234\u001b[0m, in \u001b[0;36mread_h5ad\u001b[0;34m(filename, backed, as_sparse, as_sparse_fmt, chunk_size)\u001b[0m\n\u001b[1;32m    226\u001b[0m         \u001b[38;5;28;01mraise\u001b[39;00m \u001b[38;5;167;01mNotImplementedError\u001b[39;00m(\n\u001b[1;32m    227\u001b[0m             \u001b[38;5;124m\"\u001b[39m\u001b[38;5;124mCurrently only `X` and `raw/X` can be read as sparse.\u001b[39m\u001b[38;5;124m\"\u001b[39m\n\u001b[1;32m    228\u001b[0m         )\n\u001b[1;32m    230\u001b[0m rdasp \u001b[38;5;241m=\u001b[39m partial(\n\u001b[1;32m    231\u001b[0m     read_dense_as_sparse, sparse_format\u001b[38;5;241m=\u001b[39mas_sparse_fmt, axis_chunk\u001b[38;5;241m=\u001b[39mchunk_size\n\u001b[1;32m    232\u001b[0m )\n\u001b[0;32m--> 234\u001b[0m \u001b[38;5;28;01mwith\u001b[39;00m h5py\u001b[38;5;241m.\u001b[39mFile(filename, \u001b[38;5;124m\"\u001b[39m\u001b[38;5;124mr\u001b[39m\u001b[38;5;124m\"\u001b[39m) \u001b[38;5;28;01mas\u001b[39;00m f:\n\u001b[1;32m    236\u001b[0m     \u001b[38;5;28;01mdef\u001b[39;00m\u001b[38;5;250m \u001b[39m\u001b[38;5;21mcallback\u001b[39m(func, elem_name: \u001b[38;5;28mstr\u001b[39m, elem, iospec):\n\u001b[1;32m    237\u001b[0m         \u001b[38;5;28;01mif\u001b[39;00m iospec\u001b[38;5;241m.\u001b[39mencoding_type \u001b[38;5;241m==\u001b[39m \u001b[38;5;124m\"\u001b[39m\u001b[38;5;124manndata\u001b[39m\u001b[38;5;124m\"\u001b[39m \u001b[38;5;129;01mor\u001b[39;00m elem_name\u001b[38;5;241m.\u001b[39mendswith(\u001b[38;5;124m\"\u001b[39m\u001b[38;5;124m/\u001b[39m\u001b[38;5;124m\"\u001b[39m):\n",
      "File \u001b[0;32m~/miniconda3/envs/fengyun/lib/python3.11/site-packages/h5py/_hl/files.py:564\u001b[0m, in \u001b[0;36mFile.__init__\u001b[0;34m(self, name, mode, driver, libver, userblock_size, swmr, rdcc_nslots, rdcc_nbytes, rdcc_w0, track_order, fs_strategy, fs_persist, fs_threshold, fs_page_size, page_buf_size, min_meta_keep, min_raw_keep, locking, alignment_threshold, alignment_interval, meta_block_size, **kwds)\u001b[0m\n\u001b[1;32m    555\u001b[0m     fapl \u001b[38;5;241m=\u001b[39m make_fapl(driver, libver, rdcc_nslots, rdcc_nbytes, rdcc_w0,\n\u001b[1;32m    556\u001b[0m                      locking, page_buf_size, min_meta_keep, min_raw_keep,\n\u001b[1;32m    557\u001b[0m                      alignment_threshold\u001b[38;5;241m=\u001b[39malignment_threshold,\n\u001b[1;32m    558\u001b[0m                      alignment_interval\u001b[38;5;241m=\u001b[39malignment_interval,\n\u001b[1;32m    559\u001b[0m                      meta_block_size\u001b[38;5;241m=\u001b[39mmeta_block_size,\n\u001b[1;32m    560\u001b[0m                      \u001b[38;5;241m*\u001b[39m\u001b[38;5;241m*\u001b[39mkwds)\n\u001b[1;32m    561\u001b[0m     fcpl \u001b[38;5;241m=\u001b[39m make_fcpl(track_order\u001b[38;5;241m=\u001b[39mtrack_order, fs_strategy\u001b[38;5;241m=\u001b[39mfs_strategy,\n\u001b[1;32m    562\u001b[0m                      fs_persist\u001b[38;5;241m=\u001b[39mfs_persist, fs_threshold\u001b[38;5;241m=\u001b[39mfs_threshold,\n\u001b[1;32m    563\u001b[0m                      fs_page_size\u001b[38;5;241m=\u001b[39mfs_page_size)\n\u001b[0;32m--> 564\u001b[0m     fid \u001b[38;5;241m=\u001b[39m make_fid(name, mode, userblock_size, fapl, fcpl, swmr\u001b[38;5;241m=\u001b[39mswmr)\n\u001b[1;32m    566\u001b[0m \u001b[38;5;28;01mif\u001b[39;00m \u001b[38;5;28misinstance\u001b[39m(libver, \u001b[38;5;28mtuple\u001b[39m):\n\u001b[1;32m    567\u001b[0m     \u001b[38;5;28mself\u001b[39m\u001b[38;5;241m.\u001b[39m_libver \u001b[38;5;241m=\u001b[39m libver\n",
      "File \u001b[0;32m~/miniconda3/envs/fengyun/lib/python3.11/site-packages/h5py/_hl/files.py:238\u001b[0m, in \u001b[0;36mmake_fid\u001b[0;34m(name, mode, userblock_size, fapl, fcpl, swmr)\u001b[0m\n\u001b[1;32m    236\u001b[0m     \u001b[38;5;28;01mif\u001b[39;00m swmr \u001b[38;5;129;01mand\u001b[39;00m swmr_support:\n\u001b[1;32m    237\u001b[0m         flags \u001b[38;5;241m|\u001b[39m\u001b[38;5;241m=\u001b[39m h5f\u001b[38;5;241m.\u001b[39mACC_SWMR_READ\n\u001b[0;32m--> 238\u001b[0m     fid \u001b[38;5;241m=\u001b[39m h5f\u001b[38;5;241m.\u001b[39mopen(name, flags, fapl\u001b[38;5;241m=\u001b[39mfapl)\n\u001b[1;32m    239\u001b[0m \u001b[38;5;28;01melif\u001b[39;00m mode \u001b[38;5;241m==\u001b[39m \u001b[38;5;124m'\u001b[39m\u001b[38;5;124mr+\u001b[39m\u001b[38;5;124m'\u001b[39m:\n\u001b[1;32m    240\u001b[0m     fid \u001b[38;5;241m=\u001b[39m h5f\u001b[38;5;241m.\u001b[39mopen(name, h5f\u001b[38;5;241m.\u001b[39mACC_RDWR, fapl\u001b[38;5;241m=\u001b[39mfapl)\n",
      "File \u001b[0;32mh5py/_objects.pyx:54\u001b[0m, in \u001b[0;36mh5py._objects.with_phil.wrapper\u001b[0;34m()\u001b[0m\n",
      "File \u001b[0;32mh5py/_objects.pyx:55\u001b[0m, in \u001b[0;36mh5py._objects.with_phil.wrapper\u001b[0;34m()\u001b[0m\n",
      "File \u001b[0;32mh5py/h5f.pyx:102\u001b[0m, in \u001b[0;36mh5py.h5f.open\u001b[0;34m()\u001b[0m\n",
      "\u001b[0;31mFileNotFoundError\u001b[0m: [Errno 2] Unable to synchronously open file (unable to open file: name = 'my_scRNAseq_file.h5ad', errno = 2, error message = 'No such file or directory', flags = 0, o_flags = 0)"
     ]
    }
   ],
   "source": [
    "from segger.data.utils import calculate_gene_celltype_abundance_embedding\n",
    "scrnaseq_file = Path('my_scRNAseq_file.h5ad')\n",
    "celltype_column = 'celltype_column'\n",
    "gene_celltype_abundance_embedding = calculate_gene_celltype_abundance_embedding(\n",
    "    sc.read(scrnaseq_file),\n",
    "    celltype_column\n",
    ")\n",
    "\n",
    "sample = STSampleParquet(\n",
    "    base_dir=xenium_data_dir,\n",
    "    n_workers=4,\n",
    "    sample_type='xenium', # this could be 'xenium_v2' in case one uses the cell boundaries from the segmentation kit.\n",
    "    weights=gene_celltype_abundance_embedding, \n",
    ")"
   ]
  },
  {
   "cell_type": "markdown",
   "id": "9962e4b8-4028-4683-9b75-d674fa6fb01d",
   "metadata": {
    "id": "9962e4b8-4028-4683-9b75-d674fa6fb01d"
   },
   "source": [
    "# **2. Train your Segger Model**\n",
    "\n",
    "The Segger model training process begins after the dataset has been created. This model is a **heterogeneous graph neural network (GNN)** designed to segment single cells by leveraging both nuclei and transcript data.\n",
    "\n",
    "Segger uses graph attention layers to propagate information across nodes (nuclei and transcripts) and refine cell boundaries. The model architecture includes initial embedding layers, attention-based graph convolutions, and residual connections for stable learning.\n",
    "\n",
    "Segger leverages the **PyTorch Lightning** framework to streamline the training and evaluation of its graph neural network (GNN). PyTorch Lightning simplifies the training process by abstracting away much of the boilerplate code, allowing users to focus on model development and experimentation. It also supports multi-GPU training, mixed-precision, and efficient scaling, making it an ideal framework for training complex models like Segger."
   ]
  },
  {
   "cell_type": "code",
   "execution_count": 4,
   "id": "4db89cb4-d0eb-426a-a71f-d127926fa412",
   "metadata": {
    "id": "4db89cb4-d0eb-426a-a71f-d127926fa412"
   },
   "outputs": [
    {
     "name": "stderr",
     "output_type": "stream",
     "text": [
      "/home/cuisen/miniconda3/envs/fengyun/lib/python3.11/site-packages/lightning/pytorch/utilities/parsing.py:209: Attribute 'model' is an instance of `nn.Module` and is already saved during checkpointing. It is recommended to ignore them using `self.save_hyperparameters(ignore=['model'])`.\n",
      "/home/cuisen/miniconda3/envs/fengyun/lib/python3.11/site-packages/lightning/fabric/plugins/environments/slurm.py:204: The `srun` command is available on your system but is not used. HINT: If your intention is to run Lightning on SLURM, prepend your python command with `srun` like so: srun python /home/cuisen/miniconda3/envs/fengyun/lib/python3.11/ ...\n",
      "Using 16bit Automatic Mixed Precision (AMP)\n",
      "You are using the plain ModelCheckpoint callback. Consider using LitModelCheckpoint which with seamless uploading to Model registry.\n",
      "GPU available: True (cuda), used: True\n",
      "TPU available: False, using: 0 TPU cores\n",
      "HPU available: False, using: 0 HPUs\n"
     ]
    }
   ],
   "source": [
    "from segger.models.segger_model import Segger\n",
    "from torch_geometric.nn import to_hetero\n",
    "# Base directory to store Pytorch Lightning models\n",
    "models_dir = Path('models')\n",
    "\n",
    "# Initialize the Lightning data module\n",
    "dm = SeggerDataModule(\n",
    "    data_dir=segger_data_dir,\n",
    "    batch_size=2,\n",
    "    num_workers=2,\n",
    ")\n",
    "\n",
    "dm.setup()\n",
    "\n",
    "num_tx_tokens = 500\n",
    "\n",
    "# If you use custom gene embeddings, use the following two lines instead:\n",
    "# num_tx_tokens = dm.train[0].x_dict[\"tx\"].shape[1] # Set the number of tokens to the number of genes\n",
    "\n",
    "\n",
    "model = Segger(\n",
    "    # is_token_based=is_token_based,\n",
    "    num_tx_tokens=num_tx_tokens,\n",
    "    init_emb=8,\n",
    "    hidden_channels=64,\n",
    "    out_channels=16,\n",
    "    heads=4,\n",
    "    num_mid_layers=3,\n",
    ")\n",
    "model = to_hetero(model, ([\"tx\", \"bd\"], [(\"tx\", \"belongs\", \"bd\"), (\"tx\", \"neighbors\", \"tx\")]), aggr=\"sum\")\n",
    "\n",
    "batch = dm.train[0]\n",
    "model.forward(batch.x_dict, batch.edge_index_dict)\n",
    "# Wrap the model in LitSegger\n",
    "ls = LitSegger(model=model)\n",
    "\n",
    "# Initialize the Lightning trainer\n",
    "trainer = Trainer(\n",
    "    accelerator='cuda',\n",
    "    strategy='auto',\n",
    "    precision='16-mixed',\n",
    "    devices=1, # set higher number if more gpus are available\n",
    "    max_epochs=100,\n",
    "    default_root_dir=models_dir,\n",
    "    logger=CSVLogger(models_dir),\n",
    ")"
   ]
  },
  {
   "cell_type": "code",
   "execution_count": 5,
   "id": "207864b8-7e52-4add-a4a2-e95a4debdc06",
   "metadata": {
    "id": "207864b8-7e52-4add-a4a2-e95a4debdc06",
    "scrolled": true
   },
   "outputs": [
    {
     "name": "stderr",
     "output_type": "stream",
     "text": [
      "You are using a CUDA device ('NVIDIA A100 80GB PCIe') that has Tensor Cores. To properly utilize them, you should set `torch.set_float32_matmul_precision('medium' | 'high')` which will trade-off precision for performance. For more details, read https://pytorch.org/docs/stable/generated/torch.set_float32_matmul_precision.html#torch.set_float32_matmul_precision\n",
      "LOCAL_RANK: 0 - CUDA_VISIBLE_DEVICES: [0,1,2,3]\n",
      "\n",
      "  | Name      | Type              | Params | Mode \n",
      "--------------------------------------------------------\n",
      "0 | model     | GraphModule       | 876 K  | train\n",
      "1 | criterion | BCEWithLogitsLoss | 0      | train\n",
      "--------------------------------------------------------\n",
      "876 K     Trainable params\n",
      "0         Non-trainable params\n",
      "876 K     Total params\n",
      "3.508     Total estimated model params size (MB)\n",
      "54        Modules in train mode\n",
      "0         Modules in eval mode\n",
      "/home/cuisen/miniconda3/envs/fengyun/lib/python3.11/site-packages/lightning/pytorch/core/saving.py:363: Skipping 'model' parameter because it is not possible to safely dump to YAML.\n"
     ]
    },
    {
     "data": {
      "application/vnd.jupyter.widget-view+json": {
       "model_id": "552465ae22744e5ea09b679ea77c83d9",
       "version_major": 2,
       "version_minor": 0
      },
      "text/plain": [
       "Sanity Checking: |                                                                                           |…"
      ]
     },
     "metadata": {},
     "output_type": "display_data"
    },
    {
     "data": {
      "application/vnd.jupyter.widget-view+json": {
       "model_id": "46f758dd23964d308ccfa6e141c3946a",
       "version_major": 2,
       "version_minor": 0
      },
      "text/plain": [
       "Training: |                                                                                                  |…"
      ]
     },
     "metadata": {},
     "output_type": "display_data"
    },
    {
     "ename": "OutOfMemoryError",
     "evalue": "CUDA out of memory. Tried to allocate 66.00 MiB. GPU 0 has a total capacity of 79.15 GiB of which 19.75 MiB is free. Process 68034 has 77.48 GiB memory in use. Including non-PyTorch memory, this process has 1.63 GiB memory in use. Of the allocated memory 1.11 GiB is allocated by PyTorch, and 25.52 MiB is reserved by PyTorch but unallocated. If reserved but unallocated memory is large try setting PYTORCH_CUDA_ALLOC_CONF=expandable_segments:True to avoid fragmentation.  See documentation for Memory Management  (https://pytorch.org/docs/stable/notes/cuda.html#environment-variables)",
     "output_type": "error",
     "traceback": [
      "\u001b[0;31m---------------------------------------------------------------------------\u001b[0m",
      "\u001b[0;31mOutOfMemoryError\u001b[0m                          Traceback (most recent call last)",
      "Cell \u001b[0;32mIn[5], line 2\u001b[0m\n\u001b[1;32m      1\u001b[0m \u001b[38;5;66;03m# Fit model\u001b[39;00m\n\u001b[0;32m----> 2\u001b[0m trainer\u001b[38;5;241m.\u001b[39mfit(\n\u001b[1;32m      3\u001b[0m     model\u001b[38;5;241m=\u001b[39mls,\n\u001b[1;32m      4\u001b[0m     datamodule\u001b[38;5;241m=\u001b[39mdm\n\u001b[1;32m      5\u001b[0m )\n",
      "File \u001b[0;32m~/miniconda3/envs/fengyun/lib/python3.11/site-packages/lightning/pytorch/trainer/trainer.py:561\u001b[0m, in \u001b[0;36mTrainer.fit\u001b[0;34m(self, model, train_dataloaders, val_dataloaders, datamodule, ckpt_path)\u001b[0m\n\u001b[1;32m    559\u001b[0m \u001b[38;5;28mself\u001b[39m\u001b[38;5;241m.\u001b[39mtraining \u001b[38;5;241m=\u001b[39m \u001b[38;5;28;01mTrue\u001b[39;00m\n\u001b[1;32m    560\u001b[0m \u001b[38;5;28mself\u001b[39m\u001b[38;5;241m.\u001b[39mshould_stop \u001b[38;5;241m=\u001b[39m \u001b[38;5;28;01mFalse\u001b[39;00m\n\u001b[0;32m--> 561\u001b[0m call\u001b[38;5;241m.\u001b[39m_call_and_handle_interrupt(\n\u001b[1;32m    562\u001b[0m     \u001b[38;5;28mself\u001b[39m, \u001b[38;5;28mself\u001b[39m\u001b[38;5;241m.\u001b[39m_fit_impl, model, train_dataloaders, val_dataloaders, datamodule, ckpt_path\n\u001b[1;32m    563\u001b[0m )\n",
      "File \u001b[0;32m~/miniconda3/envs/fengyun/lib/python3.11/site-packages/lightning/pytorch/trainer/call.py:48\u001b[0m, in \u001b[0;36m_call_and_handle_interrupt\u001b[0;34m(trainer, trainer_fn, *args, **kwargs)\u001b[0m\n\u001b[1;32m     46\u001b[0m     \u001b[38;5;28;01mif\u001b[39;00m trainer\u001b[38;5;241m.\u001b[39mstrategy\u001b[38;5;241m.\u001b[39mlauncher \u001b[38;5;129;01mis\u001b[39;00m \u001b[38;5;129;01mnot\u001b[39;00m \u001b[38;5;28;01mNone\u001b[39;00m:\n\u001b[1;32m     47\u001b[0m         \u001b[38;5;28;01mreturn\u001b[39;00m trainer\u001b[38;5;241m.\u001b[39mstrategy\u001b[38;5;241m.\u001b[39mlauncher\u001b[38;5;241m.\u001b[39mlaunch(trainer_fn, \u001b[38;5;241m*\u001b[39margs, trainer\u001b[38;5;241m=\u001b[39mtrainer, \u001b[38;5;241m*\u001b[39m\u001b[38;5;241m*\u001b[39mkwargs)\n\u001b[0;32m---> 48\u001b[0m     \u001b[38;5;28;01mreturn\u001b[39;00m trainer_fn(\u001b[38;5;241m*\u001b[39margs, \u001b[38;5;241m*\u001b[39m\u001b[38;5;241m*\u001b[39mkwargs)\n\u001b[1;32m     50\u001b[0m \u001b[38;5;28;01mexcept\u001b[39;00m _TunerExitException:\n\u001b[1;32m     51\u001b[0m     _call_teardown_hook(trainer)\n",
      "File \u001b[0;32m~/miniconda3/envs/fengyun/lib/python3.11/site-packages/lightning/pytorch/trainer/trainer.py:599\u001b[0m, in \u001b[0;36mTrainer._fit_impl\u001b[0;34m(self, model, train_dataloaders, val_dataloaders, datamodule, ckpt_path)\u001b[0m\n\u001b[1;32m    592\u001b[0m     download_model_from_registry(ckpt_path, \u001b[38;5;28mself\u001b[39m)\n\u001b[1;32m    593\u001b[0m ckpt_path \u001b[38;5;241m=\u001b[39m \u001b[38;5;28mself\u001b[39m\u001b[38;5;241m.\u001b[39m_checkpoint_connector\u001b[38;5;241m.\u001b[39m_select_ckpt_path(\n\u001b[1;32m    594\u001b[0m     \u001b[38;5;28mself\u001b[39m\u001b[38;5;241m.\u001b[39mstate\u001b[38;5;241m.\u001b[39mfn,\n\u001b[1;32m    595\u001b[0m     ckpt_path,\n\u001b[1;32m    596\u001b[0m     model_provided\u001b[38;5;241m=\u001b[39m\u001b[38;5;28;01mTrue\u001b[39;00m,\n\u001b[1;32m    597\u001b[0m     model_connected\u001b[38;5;241m=\u001b[39m\u001b[38;5;28mself\u001b[39m\u001b[38;5;241m.\u001b[39mlightning_module \u001b[38;5;129;01mis\u001b[39;00m \u001b[38;5;129;01mnot\u001b[39;00m \u001b[38;5;28;01mNone\u001b[39;00m,\n\u001b[1;32m    598\u001b[0m )\n\u001b[0;32m--> 599\u001b[0m \u001b[38;5;28mself\u001b[39m\u001b[38;5;241m.\u001b[39m_run(model, ckpt_path\u001b[38;5;241m=\u001b[39mckpt_path)\n\u001b[1;32m    601\u001b[0m \u001b[38;5;28;01massert\u001b[39;00m \u001b[38;5;28mself\u001b[39m\u001b[38;5;241m.\u001b[39mstate\u001b[38;5;241m.\u001b[39mstopped\n\u001b[1;32m    602\u001b[0m \u001b[38;5;28mself\u001b[39m\u001b[38;5;241m.\u001b[39mtraining \u001b[38;5;241m=\u001b[39m \u001b[38;5;28;01mFalse\u001b[39;00m\n",
      "File \u001b[0;32m~/miniconda3/envs/fengyun/lib/python3.11/site-packages/lightning/pytorch/trainer/trainer.py:1012\u001b[0m, in \u001b[0;36mTrainer._run\u001b[0;34m(self, model, ckpt_path)\u001b[0m\n\u001b[1;32m   1007\u001b[0m \u001b[38;5;28mself\u001b[39m\u001b[38;5;241m.\u001b[39m_signal_connector\u001b[38;5;241m.\u001b[39mregister_signal_handlers()\n\u001b[1;32m   1009\u001b[0m \u001b[38;5;66;03m# ----------------------------\u001b[39;00m\n\u001b[1;32m   1010\u001b[0m \u001b[38;5;66;03m# RUN THE TRAINER\u001b[39;00m\n\u001b[1;32m   1011\u001b[0m \u001b[38;5;66;03m# ----------------------------\u001b[39;00m\n\u001b[0;32m-> 1012\u001b[0m results \u001b[38;5;241m=\u001b[39m \u001b[38;5;28mself\u001b[39m\u001b[38;5;241m.\u001b[39m_run_stage()\n\u001b[1;32m   1014\u001b[0m \u001b[38;5;66;03m# ----------------------------\u001b[39;00m\n\u001b[1;32m   1015\u001b[0m \u001b[38;5;66;03m# POST-Training CLEAN UP\u001b[39;00m\n\u001b[1;32m   1016\u001b[0m \u001b[38;5;66;03m# ----------------------------\u001b[39;00m\n\u001b[1;32m   1017\u001b[0m log\u001b[38;5;241m.\u001b[39mdebug(\u001b[38;5;124mf\u001b[39m\u001b[38;5;124m\"\u001b[39m\u001b[38;5;132;01m{\u001b[39;00m\u001b[38;5;28mself\u001b[39m\u001b[38;5;241m.\u001b[39m\u001b[38;5;18m__class__\u001b[39m\u001b[38;5;241m.\u001b[39m\u001b[38;5;18m__name__\u001b[39m\u001b[38;5;132;01m}\u001b[39;00m\u001b[38;5;124m: trainer tearing down\u001b[39m\u001b[38;5;124m\"\u001b[39m)\n",
      "File \u001b[0;32m~/miniconda3/envs/fengyun/lib/python3.11/site-packages/lightning/pytorch/trainer/trainer.py:1056\u001b[0m, in \u001b[0;36mTrainer._run_stage\u001b[0;34m(self)\u001b[0m\n\u001b[1;32m   1054\u001b[0m         \u001b[38;5;28mself\u001b[39m\u001b[38;5;241m.\u001b[39m_run_sanity_check()\n\u001b[1;32m   1055\u001b[0m     \u001b[38;5;28;01mwith\u001b[39;00m torch\u001b[38;5;241m.\u001b[39mautograd\u001b[38;5;241m.\u001b[39mset_detect_anomaly(\u001b[38;5;28mself\u001b[39m\u001b[38;5;241m.\u001b[39m_detect_anomaly):\n\u001b[0;32m-> 1056\u001b[0m         \u001b[38;5;28mself\u001b[39m\u001b[38;5;241m.\u001b[39mfit_loop\u001b[38;5;241m.\u001b[39mrun()\n\u001b[1;32m   1057\u001b[0m     \u001b[38;5;28;01mreturn\u001b[39;00m \u001b[38;5;28;01mNone\u001b[39;00m\n\u001b[1;32m   1058\u001b[0m \u001b[38;5;28;01mraise\u001b[39;00m \u001b[38;5;167;01mRuntimeError\u001b[39;00m(\u001b[38;5;124mf\u001b[39m\u001b[38;5;124m\"\u001b[39m\u001b[38;5;124mUnexpected state \u001b[39m\u001b[38;5;132;01m{\u001b[39;00m\u001b[38;5;28mself\u001b[39m\u001b[38;5;241m.\u001b[39mstate\u001b[38;5;132;01m}\u001b[39;00m\u001b[38;5;124m\"\u001b[39m)\n",
      "File \u001b[0;32m~/miniconda3/envs/fengyun/lib/python3.11/site-packages/lightning/pytorch/loops/fit_loop.py:216\u001b[0m, in \u001b[0;36m_FitLoop.run\u001b[0;34m(self)\u001b[0m\n\u001b[1;32m    214\u001b[0m \u001b[38;5;28;01mtry\u001b[39;00m:\n\u001b[1;32m    215\u001b[0m     \u001b[38;5;28mself\u001b[39m\u001b[38;5;241m.\u001b[39mon_advance_start()\n\u001b[0;32m--> 216\u001b[0m     \u001b[38;5;28mself\u001b[39m\u001b[38;5;241m.\u001b[39madvance()\n\u001b[1;32m    217\u001b[0m     \u001b[38;5;28mself\u001b[39m\u001b[38;5;241m.\u001b[39mon_advance_end()\n\u001b[1;32m    218\u001b[0m \u001b[38;5;28;01mexcept\u001b[39;00m \u001b[38;5;167;01mStopIteration\u001b[39;00m:\n",
      "File \u001b[0;32m~/miniconda3/envs/fengyun/lib/python3.11/site-packages/lightning/pytorch/loops/fit_loop.py:455\u001b[0m, in \u001b[0;36m_FitLoop.advance\u001b[0;34m(self)\u001b[0m\n\u001b[1;32m    453\u001b[0m \u001b[38;5;28;01mwith\u001b[39;00m \u001b[38;5;28mself\u001b[39m\u001b[38;5;241m.\u001b[39mtrainer\u001b[38;5;241m.\u001b[39mprofiler\u001b[38;5;241m.\u001b[39mprofile(\u001b[38;5;124m\"\u001b[39m\u001b[38;5;124mrun_training_epoch\u001b[39m\u001b[38;5;124m\"\u001b[39m):\n\u001b[1;32m    454\u001b[0m     \u001b[38;5;28;01massert\u001b[39;00m \u001b[38;5;28mself\u001b[39m\u001b[38;5;241m.\u001b[39m_data_fetcher \u001b[38;5;129;01mis\u001b[39;00m \u001b[38;5;129;01mnot\u001b[39;00m \u001b[38;5;28;01mNone\u001b[39;00m\n\u001b[0;32m--> 455\u001b[0m     \u001b[38;5;28mself\u001b[39m\u001b[38;5;241m.\u001b[39mepoch_loop\u001b[38;5;241m.\u001b[39mrun(\u001b[38;5;28mself\u001b[39m\u001b[38;5;241m.\u001b[39m_data_fetcher)\n",
      "File \u001b[0;32m~/miniconda3/envs/fengyun/lib/python3.11/site-packages/lightning/pytorch/loops/training_epoch_loop.py:150\u001b[0m, in \u001b[0;36m_TrainingEpochLoop.run\u001b[0;34m(self, data_fetcher)\u001b[0m\n\u001b[1;32m    148\u001b[0m \u001b[38;5;28;01mwhile\u001b[39;00m \u001b[38;5;129;01mnot\u001b[39;00m \u001b[38;5;28mself\u001b[39m\u001b[38;5;241m.\u001b[39mdone:\n\u001b[1;32m    149\u001b[0m     \u001b[38;5;28;01mtry\u001b[39;00m:\n\u001b[0;32m--> 150\u001b[0m         \u001b[38;5;28mself\u001b[39m\u001b[38;5;241m.\u001b[39madvance(data_fetcher)\n\u001b[1;32m    151\u001b[0m         \u001b[38;5;28mself\u001b[39m\u001b[38;5;241m.\u001b[39mon_advance_end(data_fetcher)\n\u001b[1;32m    152\u001b[0m     \u001b[38;5;28;01mexcept\u001b[39;00m \u001b[38;5;167;01mStopIteration\u001b[39;00m:\n",
      "File \u001b[0;32m~/miniconda3/envs/fengyun/lib/python3.11/site-packages/lightning/pytorch/loops/training_epoch_loop.py:320\u001b[0m, in \u001b[0;36m_TrainingEpochLoop.advance\u001b[0;34m(self, data_fetcher)\u001b[0m\n\u001b[1;32m    317\u001b[0m \u001b[38;5;28;01mwith\u001b[39;00m trainer\u001b[38;5;241m.\u001b[39mprofiler\u001b[38;5;241m.\u001b[39mprofile(\u001b[38;5;124m\"\u001b[39m\u001b[38;5;124mrun_training_batch\u001b[39m\u001b[38;5;124m\"\u001b[39m):\n\u001b[1;32m    318\u001b[0m     \u001b[38;5;28;01mif\u001b[39;00m trainer\u001b[38;5;241m.\u001b[39mlightning_module\u001b[38;5;241m.\u001b[39mautomatic_optimization:\n\u001b[1;32m    319\u001b[0m         \u001b[38;5;66;03m# in automatic optimization, there can only be one optimizer\u001b[39;00m\n\u001b[0;32m--> 320\u001b[0m         batch_output \u001b[38;5;241m=\u001b[39m \u001b[38;5;28mself\u001b[39m\u001b[38;5;241m.\u001b[39mautomatic_optimization\u001b[38;5;241m.\u001b[39mrun(trainer\u001b[38;5;241m.\u001b[39moptimizers[\u001b[38;5;241m0\u001b[39m], batch_idx, kwargs)\n\u001b[1;32m    321\u001b[0m     \u001b[38;5;28;01melse\u001b[39;00m:\n\u001b[1;32m    322\u001b[0m         batch_output \u001b[38;5;241m=\u001b[39m \u001b[38;5;28mself\u001b[39m\u001b[38;5;241m.\u001b[39mmanual_optimization\u001b[38;5;241m.\u001b[39mrun(kwargs)\n",
      "File \u001b[0;32m~/miniconda3/envs/fengyun/lib/python3.11/site-packages/lightning/pytorch/loops/optimization/automatic.py:192\u001b[0m, in \u001b[0;36m_AutomaticOptimization.run\u001b[0;34m(self, optimizer, batch_idx, kwargs)\u001b[0m\n\u001b[1;32m    185\u001b[0m         closure()\n\u001b[1;32m    187\u001b[0m \u001b[38;5;66;03m# ------------------------------\u001b[39;00m\n\u001b[1;32m    188\u001b[0m \u001b[38;5;66;03m# BACKWARD PASS\u001b[39;00m\n\u001b[1;32m    189\u001b[0m \u001b[38;5;66;03m# ------------------------------\u001b[39;00m\n\u001b[1;32m    190\u001b[0m \u001b[38;5;66;03m# gradient update with accumulated gradients\u001b[39;00m\n\u001b[1;32m    191\u001b[0m \u001b[38;5;28;01melse\u001b[39;00m:\n\u001b[0;32m--> 192\u001b[0m     \u001b[38;5;28mself\u001b[39m\u001b[38;5;241m.\u001b[39m_optimizer_step(batch_idx, closure)\n\u001b[1;32m    194\u001b[0m result \u001b[38;5;241m=\u001b[39m closure\u001b[38;5;241m.\u001b[39mconsume_result()\n\u001b[1;32m    195\u001b[0m \u001b[38;5;28;01mif\u001b[39;00m result\u001b[38;5;241m.\u001b[39mloss \u001b[38;5;129;01mis\u001b[39;00m \u001b[38;5;28;01mNone\u001b[39;00m:\n",
      "File \u001b[0;32m~/miniconda3/envs/fengyun/lib/python3.11/site-packages/lightning/pytorch/loops/optimization/automatic.py:270\u001b[0m, in \u001b[0;36m_AutomaticOptimization._optimizer_step\u001b[0;34m(self, batch_idx, train_step_and_backward_closure)\u001b[0m\n\u001b[1;32m    267\u001b[0m     \u001b[38;5;28mself\u001b[39m\u001b[38;5;241m.\u001b[39moptim_progress\u001b[38;5;241m.\u001b[39moptimizer\u001b[38;5;241m.\u001b[39mstep\u001b[38;5;241m.\u001b[39mincrement_ready()\n\u001b[1;32m    269\u001b[0m \u001b[38;5;66;03m# model hook\u001b[39;00m\n\u001b[0;32m--> 270\u001b[0m call\u001b[38;5;241m.\u001b[39m_call_lightning_module_hook(\n\u001b[1;32m    271\u001b[0m     trainer,\n\u001b[1;32m    272\u001b[0m     \u001b[38;5;124m\"\u001b[39m\u001b[38;5;124moptimizer_step\u001b[39m\u001b[38;5;124m\"\u001b[39m,\n\u001b[1;32m    273\u001b[0m     trainer\u001b[38;5;241m.\u001b[39mcurrent_epoch,\n\u001b[1;32m    274\u001b[0m     batch_idx,\n\u001b[1;32m    275\u001b[0m     optimizer,\n\u001b[1;32m    276\u001b[0m     train_step_and_backward_closure,\n\u001b[1;32m    277\u001b[0m )\n\u001b[1;32m    279\u001b[0m \u001b[38;5;28;01mif\u001b[39;00m \u001b[38;5;129;01mnot\u001b[39;00m should_accumulate:\n\u001b[1;32m    280\u001b[0m     \u001b[38;5;28mself\u001b[39m\u001b[38;5;241m.\u001b[39moptim_progress\u001b[38;5;241m.\u001b[39moptimizer\u001b[38;5;241m.\u001b[39mstep\u001b[38;5;241m.\u001b[39mincrement_completed()\n",
      "File \u001b[0;32m~/miniconda3/envs/fengyun/lib/python3.11/site-packages/lightning/pytorch/trainer/call.py:176\u001b[0m, in \u001b[0;36m_call_lightning_module_hook\u001b[0;34m(trainer, hook_name, pl_module, *args, **kwargs)\u001b[0m\n\u001b[1;32m    173\u001b[0m pl_module\u001b[38;5;241m.\u001b[39m_current_fx_name \u001b[38;5;241m=\u001b[39m hook_name\n\u001b[1;32m    175\u001b[0m \u001b[38;5;28;01mwith\u001b[39;00m trainer\u001b[38;5;241m.\u001b[39mprofiler\u001b[38;5;241m.\u001b[39mprofile(\u001b[38;5;124mf\u001b[39m\u001b[38;5;124m\"\u001b[39m\u001b[38;5;124m[LightningModule]\u001b[39m\u001b[38;5;132;01m{\u001b[39;00mpl_module\u001b[38;5;241m.\u001b[39m\u001b[38;5;18m__class__\u001b[39m\u001b[38;5;241m.\u001b[39m\u001b[38;5;18m__name__\u001b[39m\u001b[38;5;132;01m}\u001b[39;00m\u001b[38;5;124m.\u001b[39m\u001b[38;5;132;01m{\u001b[39;00mhook_name\u001b[38;5;132;01m}\u001b[39;00m\u001b[38;5;124m\"\u001b[39m):\n\u001b[0;32m--> 176\u001b[0m     output \u001b[38;5;241m=\u001b[39m fn(\u001b[38;5;241m*\u001b[39margs, \u001b[38;5;241m*\u001b[39m\u001b[38;5;241m*\u001b[39mkwargs)\n\u001b[1;32m    178\u001b[0m \u001b[38;5;66;03m# restore current_fx when nested context\u001b[39;00m\n\u001b[1;32m    179\u001b[0m pl_module\u001b[38;5;241m.\u001b[39m_current_fx_name \u001b[38;5;241m=\u001b[39m prev_fx_name\n",
      "File \u001b[0;32m~/miniconda3/envs/fengyun/lib/python3.11/site-packages/lightning/pytorch/core/module.py:1302\u001b[0m, in \u001b[0;36mLightningModule.optimizer_step\u001b[0;34m(self, epoch, batch_idx, optimizer, optimizer_closure)\u001b[0m\n\u001b[1;32m   1271\u001b[0m \u001b[38;5;28;01mdef\u001b[39;00m\u001b[38;5;250m \u001b[39m\u001b[38;5;21moptimizer_step\u001b[39m(\n\u001b[1;32m   1272\u001b[0m     \u001b[38;5;28mself\u001b[39m,\n\u001b[1;32m   1273\u001b[0m     epoch: \u001b[38;5;28mint\u001b[39m,\n\u001b[0;32m   (...)\u001b[0m\n\u001b[1;32m   1276\u001b[0m     optimizer_closure: Optional[Callable[[], Any]] \u001b[38;5;241m=\u001b[39m \u001b[38;5;28;01mNone\u001b[39;00m,\n\u001b[1;32m   1277\u001b[0m ) \u001b[38;5;241m-\u001b[39m\u001b[38;5;241m>\u001b[39m \u001b[38;5;28;01mNone\u001b[39;00m:\n\u001b[1;32m   1278\u001b[0m \u001b[38;5;250m    \u001b[39m\u001b[38;5;124mr\u001b[39m\u001b[38;5;124;03m\"\"\"Override this method to adjust the default way the :class:`~lightning.pytorch.trainer.trainer.Trainer` calls\u001b[39;00m\n\u001b[1;32m   1279\u001b[0m \u001b[38;5;124;03m    the optimizer.\u001b[39;00m\n\u001b[1;32m   1280\u001b[0m \n\u001b[0;32m   (...)\u001b[0m\n\u001b[1;32m   1300\u001b[0m \n\u001b[1;32m   1301\u001b[0m \u001b[38;5;124;03m    \"\"\"\u001b[39;00m\n\u001b[0;32m-> 1302\u001b[0m     optimizer\u001b[38;5;241m.\u001b[39mstep(closure\u001b[38;5;241m=\u001b[39moptimizer_closure)\n",
      "File \u001b[0;32m~/miniconda3/envs/fengyun/lib/python3.11/site-packages/lightning/pytorch/core/optimizer.py:154\u001b[0m, in \u001b[0;36mLightningOptimizer.step\u001b[0;34m(self, closure, **kwargs)\u001b[0m\n\u001b[1;32m    151\u001b[0m     \u001b[38;5;28;01mraise\u001b[39;00m MisconfigurationException(\u001b[38;5;124m\"\u001b[39m\u001b[38;5;124mWhen `optimizer.step(closure)` is called, the closure should be callable\u001b[39m\u001b[38;5;124m\"\u001b[39m)\n\u001b[1;32m    153\u001b[0m \u001b[38;5;28;01massert\u001b[39;00m \u001b[38;5;28mself\u001b[39m\u001b[38;5;241m.\u001b[39m_strategy \u001b[38;5;129;01mis\u001b[39;00m \u001b[38;5;129;01mnot\u001b[39;00m \u001b[38;5;28;01mNone\u001b[39;00m\n\u001b[0;32m--> 154\u001b[0m step_output \u001b[38;5;241m=\u001b[39m \u001b[38;5;28mself\u001b[39m\u001b[38;5;241m.\u001b[39m_strategy\u001b[38;5;241m.\u001b[39moptimizer_step(\u001b[38;5;28mself\u001b[39m\u001b[38;5;241m.\u001b[39m_optimizer, closure, \u001b[38;5;241m*\u001b[39m\u001b[38;5;241m*\u001b[39mkwargs)\n\u001b[1;32m    156\u001b[0m \u001b[38;5;28mself\u001b[39m\u001b[38;5;241m.\u001b[39m_on_after_step()\n\u001b[1;32m    158\u001b[0m \u001b[38;5;28;01mreturn\u001b[39;00m step_output\n",
      "File \u001b[0;32m~/miniconda3/envs/fengyun/lib/python3.11/site-packages/lightning/pytorch/strategies/strategy.py:239\u001b[0m, in \u001b[0;36mStrategy.optimizer_step\u001b[0;34m(self, optimizer, closure, model, **kwargs)\u001b[0m\n\u001b[1;32m    237\u001b[0m \u001b[38;5;66;03m# TODO(fabric): remove assertion once strategy's optimizer_step typing is fixed\u001b[39;00m\n\u001b[1;32m    238\u001b[0m \u001b[38;5;28;01massert\u001b[39;00m \u001b[38;5;28misinstance\u001b[39m(model, pl\u001b[38;5;241m.\u001b[39mLightningModule)\n\u001b[0;32m--> 239\u001b[0m \u001b[38;5;28;01mreturn\u001b[39;00m \u001b[38;5;28mself\u001b[39m\u001b[38;5;241m.\u001b[39mprecision_plugin\u001b[38;5;241m.\u001b[39moptimizer_step(optimizer, model\u001b[38;5;241m=\u001b[39mmodel, closure\u001b[38;5;241m=\u001b[39mclosure, \u001b[38;5;241m*\u001b[39m\u001b[38;5;241m*\u001b[39mkwargs)\n",
      "File \u001b[0;32m~/miniconda3/envs/fengyun/lib/python3.11/site-packages/lightning/pytorch/plugins/precision/amp.py:79\u001b[0m, in \u001b[0;36mMixedPrecision.optimizer_step\u001b[0;34m(self, optimizer, model, closure, **kwargs)\u001b[0m\n\u001b[1;32m     77\u001b[0m \u001b[38;5;28;01mif\u001b[39;00m \u001b[38;5;28misinstance\u001b[39m(optimizer, LBFGS):\n\u001b[1;32m     78\u001b[0m     \u001b[38;5;28;01mraise\u001b[39;00m MisconfigurationException(\u001b[38;5;124m\"\u001b[39m\u001b[38;5;124mAMP and the LBFGS optimizer are not compatible.\u001b[39m\u001b[38;5;124m\"\u001b[39m)\n\u001b[0;32m---> 79\u001b[0m closure_result \u001b[38;5;241m=\u001b[39m closure()\n\u001b[1;32m     81\u001b[0m \u001b[38;5;66;03m# If backward was skipped in automatic optimization (return None), unscaling is not needed\u001b[39;00m\n\u001b[1;32m     82\u001b[0m skip_unscaling \u001b[38;5;241m=\u001b[39m closure_result \u001b[38;5;129;01mis\u001b[39;00m \u001b[38;5;28;01mNone\u001b[39;00m \u001b[38;5;129;01mand\u001b[39;00m model\u001b[38;5;241m.\u001b[39mautomatic_optimization\n",
      "File \u001b[0;32m~/miniconda3/envs/fengyun/lib/python3.11/site-packages/lightning/pytorch/loops/optimization/automatic.py:146\u001b[0m, in \u001b[0;36mClosure.__call__\u001b[0;34m(self, *args, **kwargs)\u001b[0m\n\u001b[1;32m    144\u001b[0m \u001b[38;5;129m@override\u001b[39m\n\u001b[1;32m    145\u001b[0m \u001b[38;5;28;01mdef\u001b[39;00m\u001b[38;5;250m \u001b[39m\u001b[38;5;21m__call__\u001b[39m(\u001b[38;5;28mself\u001b[39m, \u001b[38;5;241m*\u001b[39margs: Any, \u001b[38;5;241m*\u001b[39m\u001b[38;5;241m*\u001b[39mkwargs: Any) \u001b[38;5;241m-\u001b[39m\u001b[38;5;241m>\u001b[39m Optional[Tensor]:\n\u001b[0;32m--> 146\u001b[0m     \u001b[38;5;28mself\u001b[39m\u001b[38;5;241m.\u001b[39m_result \u001b[38;5;241m=\u001b[39m \u001b[38;5;28mself\u001b[39m\u001b[38;5;241m.\u001b[39mclosure(\u001b[38;5;241m*\u001b[39margs, \u001b[38;5;241m*\u001b[39m\u001b[38;5;241m*\u001b[39mkwargs)\n\u001b[1;32m    147\u001b[0m     \u001b[38;5;28;01mreturn\u001b[39;00m \u001b[38;5;28mself\u001b[39m\u001b[38;5;241m.\u001b[39m_result\u001b[38;5;241m.\u001b[39mloss\n",
      "File \u001b[0;32m~/miniconda3/envs/fengyun/lib/python3.11/site-packages/torch/utils/_contextlib.py:116\u001b[0m, in \u001b[0;36mcontext_decorator.<locals>.decorate_context\u001b[0;34m(*args, **kwargs)\u001b[0m\n\u001b[1;32m    113\u001b[0m \u001b[38;5;129m@functools\u001b[39m\u001b[38;5;241m.\u001b[39mwraps(func)\n\u001b[1;32m    114\u001b[0m \u001b[38;5;28;01mdef\u001b[39;00m\u001b[38;5;250m \u001b[39m\u001b[38;5;21mdecorate_context\u001b[39m(\u001b[38;5;241m*\u001b[39margs, \u001b[38;5;241m*\u001b[39m\u001b[38;5;241m*\u001b[39mkwargs):\n\u001b[1;32m    115\u001b[0m     \u001b[38;5;28;01mwith\u001b[39;00m ctx_factory():\n\u001b[0;32m--> 116\u001b[0m         \u001b[38;5;28;01mreturn\u001b[39;00m func(\u001b[38;5;241m*\u001b[39margs, \u001b[38;5;241m*\u001b[39m\u001b[38;5;241m*\u001b[39mkwargs)\n",
      "File \u001b[0;32m~/miniconda3/envs/fengyun/lib/python3.11/site-packages/lightning/pytorch/loops/optimization/automatic.py:131\u001b[0m, in \u001b[0;36mClosure.closure\u001b[0;34m(self, *args, **kwargs)\u001b[0m\n\u001b[1;32m    128\u001b[0m \u001b[38;5;129m@override\u001b[39m\n\u001b[1;32m    129\u001b[0m \u001b[38;5;129m@torch\u001b[39m\u001b[38;5;241m.\u001b[39menable_grad()\n\u001b[1;32m    130\u001b[0m \u001b[38;5;28;01mdef\u001b[39;00m\u001b[38;5;250m \u001b[39m\u001b[38;5;21mclosure\u001b[39m(\u001b[38;5;28mself\u001b[39m, \u001b[38;5;241m*\u001b[39margs: Any, \u001b[38;5;241m*\u001b[39m\u001b[38;5;241m*\u001b[39mkwargs: Any) \u001b[38;5;241m-\u001b[39m\u001b[38;5;241m>\u001b[39m ClosureResult:\n\u001b[0;32m--> 131\u001b[0m     step_output \u001b[38;5;241m=\u001b[39m \u001b[38;5;28mself\u001b[39m\u001b[38;5;241m.\u001b[39m_step_fn()\n\u001b[1;32m    133\u001b[0m     \u001b[38;5;28;01mif\u001b[39;00m step_output\u001b[38;5;241m.\u001b[39mclosure_loss \u001b[38;5;129;01mis\u001b[39;00m \u001b[38;5;28;01mNone\u001b[39;00m:\n\u001b[1;32m    134\u001b[0m         \u001b[38;5;28mself\u001b[39m\u001b[38;5;241m.\u001b[39mwarning_cache\u001b[38;5;241m.\u001b[39mwarn(\u001b[38;5;124m\"\u001b[39m\u001b[38;5;124m`training_step` returned `None`. If this was on purpose, ignore this warning...\u001b[39m\u001b[38;5;124m\"\u001b[39m)\n",
      "File \u001b[0;32m~/miniconda3/envs/fengyun/lib/python3.11/site-packages/lightning/pytorch/loops/optimization/automatic.py:319\u001b[0m, in \u001b[0;36m_AutomaticOptimization._training_step\u001b[0;34m(self, kwargs)\u001b[0m\n\u001b[1;32m    308\u001b[0m \u001b[38;5;250m\u001b[39m\u001b[38;5;124;03m\"\"\"Performs the actual train step with the tied hooks.\u001b[39;00m\n\u001b[1;32m    309\u001b[0m \n\u001b[1;32m    310\u001b[0m \u001b[38;5;124;03mArgs:\u001b[39;00m\n\u001b[0;32m   (...)\u001b[0m\n\u001b[1;32m    315\u001b[0m \n\u001b[1;32m    316\u001b[0m \u001b[38;5;124;03m\"\"\"\u001b[39;00m\n\u001b[1;32m    317\u001b[0m trainer \u001b[38;5;241m=\u001b[39m \u001b[38;5;28mself\u001b[39m\u001b[38;5;241m.\u001b[39mtrainer\n\u001b[0;32m--> 319\u001b[0m training_step_output \u001b[38;5;241m=\u001b[39m call\u001b[38;5;241m.\u001b[39m_call_strategy_hook(trainer, \u001b[38;5;124m\"\u001b[39m\u001b[38;5;124mtraining_step\u001b[39m\u001b[38;5;124m\"\u001b[39m, \u001b[38;5;241m*\u001b[39mkwargs\u001b[38;5;241m.\u001b[39mvalues())\n\u001b[1;32m    320\u001b[0m \u001b[38;5;28mself\u001b[39m\u001b[38;5;241m.\u001b[39mtrainer\u001b[38;5;241m.\u001b[39mstrategy\u001b[38;5;241m.\u001b[39mpost_training_step()  \u001b[38;5;66;03m# unused hook - call anyway for backward compatibility\u001b[39;00m\n\u001b[1;32m    322\u001b[0m \u001b[38;5;28;01mif\u001b[39;00m training_step_output \u001b[38;5;129;01mis\u001b[39;00m \u001b[38;5;28;01mNone\u001b[39;00m \u001b[38;5;129;01mand\u001b[39;00m trainer\u001b[38;5;241m.\u001b[39mworld_size \u001b[38;5;241m>\u001b[39m \u001b[38;5;241m1\u001b[39m:\n",
      "File \u001b[0;32m~/miniconda3/envs/fengyun/lib/python3.11/site-packages/lightning/pytorch/trainer/call.py:328\u001b[0m, in \u001b[0;36m_call_strategy_hook\u001b[0;34m(trainer, hook_name, *args, **kwargs)\u001b[0m\n\u001b[1;32m    325\u001b[0m     \u001b[38;5;28;01mreturn\u001b[39;00m \u001b[38;5;28;01mNone\u001b[39;00m\n\u001b[1;32m    327\u001b[0m \u001b[38;5;28;01mwith\u001b[39;00m trainer\u001b[38;5;241m.\u001b[39mprofiler\u001b[38;5;241m.\u001b[39mprofile(\u001b[38;5;124mf\u001b[39m\u001b[38;5;124m\"\u001b[39m\u001b[38;5;124m[Strategy]\u001b[39m\u001b[38;5;132;01m{\u001b[39;00mtrainer\u001b[38;5;241m.\u001b[39mstrategy\u001b[38;5;241m.\u001b[39m\u001b[38;5;18m__class__\u001b[39m\u001b[38;5;241m.\u001b[39m\u001b[38;5;18m__name__\u001b[39m\u001b[38;5;132;01m}\u001b[39;00m\u001b[38;5;124m.\u001b[39m\u001b[38;5;132;01m{\u001b[39;00mhook_name\u001b[38;5;132;01m}\u001b[39;00m\u001b[38;5;124m\"\u001b[39m):\n\u001b[0;32m--> 328\u001b[0m     output \u001b[38;5;241m=\u001b[39m fn(\u001b[38;5;241m*\u001b[39margs, \u001b[38;5;241m*\u001b[39m\u001b[38;5;241m*\u001b[39mkwargs)\n\u001b[1;32m    330\u001b[0m \u001b[38;5;66;03m# restore current_fx when nested context\u001b[39;00m\n\u001b[1;32m    331\u001b[0m pl_module\u001b[38;5;241m.\u001b[39m_current_fx_name \u001b[38;5;241m=\u001b[39m prev_fx_name\n",
      "File \u001b[0;32m~/miniconda3/envs/fengyun/lib/python3.11/site-packages/lightning/pytorch/strategies/strategy.py:391\u001b[0m, in \u001b[0;36mStrategy.training_step\u001b[0;34m(self, *args, **kwargs)\u001b[0m\n\u001b[1;32m    389\u001b[0m \u001b[38;5;28;01mif\u001b[39;00m \u001b[38;5;28mself\u001b[39m\u001b[38;5;241m.\u001b[39mmodel \u001b[38;5;241m!=\u001b[39m \u001b[38;5;28mself\u001b[39m\u001b[38;5;241m.\u001b[39mlightning_module:\n\u001b[1;32m    390\u001b[0m     \u001b[38;5;28;01mreturn\u001b[39;00m \u001b[38;5;28mself\u001b[39m\u001b[38;5;241m.\u001b[39m_forward_redirection(\u001b[38;5;28mself\u001b[39m\u001b[38;5;241m.\u001b[39mmodel, \u001b[38;5;28mself\u001b[39m\u001b[38;5;241m.\u001b[39mlightning_module, \u001b[38;5;124m\"\u001b[39m\u001b[38;5;124mtraining_step\u001b[39m\u001b[38;5;124m\"\u001b[39m, \u001b[38;5;241m*\u001b[39margs, \u001b[38;5;241m*\u001b[39m\u001b[38;5;241m*\u001b[39mkwargs)\n\u001b[0;32m--> 391\u001b[0m \u001b[38;5;28;01mreturn\u001b[39;00m \u001b[38;5;28mself\u001b[39m\u001b[38;5;241m.\u001b[39mlightning_module\u001b[38;5;241m.\u001b[39mtraining_step(\u001b[38;5;241m*\u001b[39margs, \u001b[38;5;241m*\u001b[39m\u001b[38;5;241m*\u001b[39mkwargs)\n",
      "File \u001b[0;32m~/users/fengyun/segger/src/segger/training/train.py:76\u001b[0m, in \u001b[0;36mLitSegger.training_step\u001b[0;34m(self, batch, batch_idx)\u001b[0m\n\u001b[1;32m     60\u001b[0m \u001b[38;5;250m\u001b[39m\u001b[38;5;124;03m\"\"\"\u001b[39;00m\n\u001b[1;32m     61\u001b[0m \u001b[38;5;124;03mDefines the training step.\u001b[39;00m\n\u001b[1;32m     62\u001b[0m \n\u001b[0;32m   (...)\u001b[0m\n\u001b[1;32m     73\u001b[0m \u001b[38;5;124;03m    The loss value for the current training step.\u001b[39;00m\n\u001b[1;32m     74\u001b[0m \u001b[38;5;124;03m\"\"\"\u001b[39;00m\n\u001b[1;32m     75\u001b[0m \u001b[38;5;66;03m# Forward pass to get the logits\u001b[39;00m\n\u001b[0;32m---> 76\u001b[0m z \u001b[38;5;241m=\u001b[39m \u001b[38;5;28mself\u001b[39m\u001b[38;5;241m.\u001b[39mmodel(batch\u001b[38;5;241m.\u001b[39mx_dict, batch\u001b[38;5;241m.\u001b[39medge_index_dict)\n\u001b[1;32m     77\u001b[0m output \u001b[38;5;241m=\u001b[39m torch\u001b[38;5;241m.\u001b[39mmatmul(z[\u001b[38;5;124m\"\u001b[39m\u001b[38;5;124mtx\u001b[39m\u001b[38;5;124m\"\u001b[39m], z[\u001b[38;5;124m\"\u001b[39m\u001b[38;5;124mbd\u001b[39m\u001b[38;5;124m\"\u001b[39m]\u001b[38;5;241m.\u001b[39mt())\n\u001b[1;32m     79\u001b[0m \u001b[38;5;66;03m# Get edge labels and logits\u001b[39;00m\n",
      "File \u001b[0;32m~/miniconda3/envs/fengyun/lib/python3.11/site-packages/torch/fx/graph_module.py:822\u001b[0m, in \u001b[0;36mGraphModule.recompile.<locals>.call_wrapped\u001b[0;34m(self, *args, **kwargs)\u001b[0m\n\u001b[1;32m    821\u001b[0m \u001b[38;5;28;01mdef\u001b[39;00m\u001b[38;5;250m \u001b[39m\u001b[38;5;21mcall_wrapped\u001b[39m(\u001b[38;5;28mself\u001b[39m, \u001b[38;5;241m*\u001b[39margs, \u001b[38;5;241m*\u001b[39m\u001b[38;5;241m*\u001b[39mkwargs):\n\u001b[0;32m--> 822\u001b[0m     \u001b[38;5;28;01mreturn\u001b[39;00m \u001b[38;5;28mself\u001b[39m\u001b[38;5;241m.\u001b[39m_wrapped_call(\u001b[38;5;28mself\u001b[39m, \u001b[38;5;241m*\u001b[39margs, \u001b[38;5;241m*\u001b[39m\u001b[38;5;241m*\u001b[39mkwargs)\n",
      "File \u001b[0;32m~/miniconda3/envs/fengyun/lib/python3.11/site-packages/torch/fx/graph_module.py:400\u001b[0m, in \u001b[0;36m_WrappedCall.__call__\u001b[0;34m(self, obj, *args, **kwargs)\u001b[0m\n\u001b[1;32m    398\u001b[0m     \u001b[38;5;28;01mraise\u001b[39;00m e\u001b[38;5;241m.\u001b[39mwith_traceback(\u001b[38;5;28;01mNone\u001b[39;00m)  \u001b[38;5;66;03m# noqa: B904\u001b[39;00m\n\u001b[1;32m    399\u001b[0m \u001b[38;5;28;01melse\u001b[39;00m:\n\u001b[0;32m--> 400\u001b[0m     \u001b[38;5;28;01mraise\u001b[39;00m e\n",
      "File \u001b[0;32m~/miniconda3/envs/fengyun/lib/python3.11/site-packages/torch/fx/graph_module.py:387\u001b[0m, in \u001b[0;36m_WrappedCall.__call__\u001b[0;34m(self, obj, *args, **kwargs)\u001b[0m\n\u001b[1;32m    385\u001b[0m         \u001b[38;5;28;01mreturn\u001b[39;00m \u001b[38;5;28mself\u001b[39m\u001b[38;5;241m.\u001b[39mcls_call(obj, \u001b[38;5;241m*\u001b[39margs, \u001b[38;5;241m*\u001b[39m\u001b[38;5;241m*\u001b[39mkwargs)\n\u001b[1;32m    386\u001b[0m     \u001b[38;5;28;01melse\u001b[39;00m:\n\u001b[0;32m--> 387\u001b[0m         \u001b[38;5;28;01mreturn\u001b[39;00m \u001b[38;5;28msuper\u001b[39m(\u001b[38;5;28mself\u001b[39m\u001b[38;5;241m.\u001b[39mcls, obj)\u001b[38;5;241m.\u001b[39m\u001b[38;5;21m__call__\u001b[39m(\u001b[38;5;241m*\u001b[39margs, \u001b[38;5;241m*\u001b[39m\u001b[38;5;241m*\u001b[39mkwargs)  \u001b[38;5;66;03m# type: ignore[misc]\u001b[39;00m\n\u001b[1;32m    388\u001b[0m \u001b[38;5;28;01mexcept\u001b[39;00m \u001b[38;5;167;01mException\u001b[39;00m \u001b[38;5;28;01mas\u001b[39;00m e:\n\u001b[1;32m    389\u001b[0m     \u001b[38;5;28;01massert\u001b[39;00m e\u001b[38;5;241m.\u001b[39m__traceback__\n",
      "File \u001b[0;32m~/miniconda3/envs/fengyun/lib/python3.11/site-packages/torch/nn/modules/module.py:1739\u001b[0m, in \u001b[0;36mModule._wrapped_call_impl\u001b[0;34m(self, *args, **kwargs)\u001b[0m\n\u001b[1;32m   1737\u001b[0m     \u001b[38;5;28;01mreturn\u001b[39;00m \u001b[38;5;28mself\u001b[39m\u001b[38;5;241m.\u001b[39m_compiled_call_impl(\u001b[38;5;241m*\u001b[39margs, \u001b[38;5;241m*\u001b[39m\u001b[38;5;241m*\u001b[39mkwargs)  \u001b[38;5;66;03m# type: ignore[misc]\u001b[39;00m\n\u001b[1;32m   1738\u001b[0m \u001b[38;5;28;01melse\u001b[39;00m:\n\u001b[0;32m-> 1739\u001b[0m     \u001b[38;5;28;01mreturn\u001b[39;00m \u001b[38;5;28mself\u001b[39m\u001b[38;5;241m.\u001b[39m_call_impl(\u001b[38;5;241m*\u001b[39margs, \u001b[38;5;241m*\u001b[39m\u001b[38;5;241m*\u001b[39mkwargs)\n",
      "File \u001b[0;32m~/miniconda3/envs/fengyun/lib/python3.11/site-packages/torch/nn/modules/module.py:1750\u001b[0m, in \u001b[0;36mModule._call_impl\u001b[0;34m(self, *args, **kwargs)\u001b[0m\n\u001b[1;32m   1745\u001b[0m \u001b[38;5;66;03m# If we don't have any hooks, we want to skip the rest of the logic in\u001b[39;00m\n\u001b[1;32m   1746\u001b[0m \u001b[38;5;66;03m# this function, and just call forward.\u001b[39;00m\n\u001b[1;32m   1747\u001b[0m \u001b[38;5;28;01mif\u001b[39;00m \u001b[38;5;129;01mnot\u001b[39;00m (\u001b[38;5;28mself\u001b[39m\u001b[38;5;241m.\u001b[39m_backward_hooks \u001b[38;5;129;01mor\u001b[39;00m \u001b[38;5;28mself\u001b[39m\u001b[38;5;241m.\u001b[39m_backward_pre_hooks \u001b[38;5;129;01mor\u001b[39;00m \u001b[38;5;28mself\u001b[39m\u001b[38;5;241m.\u001b[39m_forward_hooks \u001b[38;5;129;01mor\u001b[39;00m \u001b[38;5;28mself\u001b[39m\u001b[38;5;241m.\u001b[39m_forward_pre_hooks\n\u001b[1;32m   1748\u001b[0m         \u001b[38;5;129;01mor\u001b[39;00m _global_backward_pre_hooks \u001b[38;5;129;01mor\u001b[39;00m _global_backward_hooks\n\u001b[1;32m   1749\u001b[0m         \u001b[38;5;129;01mor\u001b[39;00m _global_forward_hooks \u001b[38;5;129;01mor\u001b[39;00m _global_forward_pre_hooks):\n\u001b[0;32m-> 1750\u001b[0m     \u001b[38;5;28;01mreturn\u001b[39;00m forward_call(\u001b[38;5;241m*\u001b[39margs, \u001b[38;5;241m*\u001b[39m\u001b[38;5;241m*\u001b[39mkwargs)\n\u001b[1;32m   1752\u001b[0m result \u001b[38;5;241m=\u001b[39m \u001b[38;5;28;01mNone\u001b[39;00m\n\u001b[1;32m   1753\u001b[0m called_always_called_hooks \u001b[38;5;241m=\u001b[39m \u001b[38;5;28mset\u001b[39m()\n",
      "File \u001b[0;32m<eval_with_key>.3:58\u001b[0m, in \u001b[0;36mforward\u001b[0;34m(self, x, edge_index)\u001b[0m\n\u001b[1;32m     56\u001b[0m relu_3__bd \u001b[38;5;241m=\u001b[39m conv_mid_layers_1__bd\u001b[38;5;241m.\u001b[39mrelu();  conv_mid_layers_1__bd \u001b[38;5;241m=\u001b[39m \u001b[38;5;28;01mNone\u001b[39;00m\n\u001b[1;32m     57\u001b[0m conv_mid_layers_2__bd \u001b[38;5;241m=\u001b[39m \u001b[38;5;28mgetattr\u001b[39m(\u001b[38;5;28mself\u001b[39m\u001b[38;5;241m.\u001b[39mconv_mid_layers, \u001b[38;5;124m\"\u001b[39m\u001b[38;5;124m2\u001b[39m\u001b[38;5;124m\"\u001b[39m)\u001b[38;5;241m.\u001b[39mtx__belongs__bd((relu_3__tx, relu_3__bd), edge_index__tx__belongs__bd);  relu_3__bd \u001b[38;5;241m=\u001b[39m \u001b[38;5;28;01mNone\u001b[39;00m\n\u001b[0;32m---> 58\u001b[0m conv_mid_layers_2__tx \u001b[38;5;241m=\u001b[39m \u001b[38;5;28mgetattr\u001b[39m(\u001b[38;5;28mself\u001b[39m\u001b[38;5;241m.\u001b[39mconv_mid_layers, \u001b[38;5;124m\"\u001b[39m\u001b[38;5;124m2\u001b[39m\u001b[38;5;124m\"\u001b[39m)\u001b[38;5;241m.\u001b[39mtx__neighbors__tx(relu_3__tx, edge_index__tx__neighbors__tx);  relu_3__tx \u001b[38;5;241m=\u001b[39m \u001b[38;5;28;01mNone\u001b[39;00m\n\u001b[1;32m     59\u001b[0m relu_4__tx \u001b[38;5;241m=\u001b[39m conv_mid_layers_2__tx\u001b[38;5;241m.\u001b[39mrelu();  conv_mid_layers_2__tx \u001b[38;5;241m=\u001b[39m \u001b[38;5;28;01mNone\u001b[39;00m\n\u001b[1;32m     60\u001b[0m relu_4__bd \u001b[38;5;241m=\u001b[39m conv_mid_layers_2__bd\u001b[38;5;241m.\u001b[39mrelu();  conv_mid_layers_2__bd \u001b[38;5;241m=\u001b[39m \u001b[38;5;28;01mNone\u001b[39;00m\n",
      "File \u001b[0;32m~/miniconda3/envs/fengyun/lib/python3.11/site-packages/torch/nn/modules/module.py:1739\u001b[0m, in \u001b[0;36mModule._wrapped_call_impl\u001b[0;34m(self, *args, **kwargs)\u001b[0m\n\u001b[1;32m   1737\u001b[0m     \u001b[38;5;28;01mreturn\u001b[39;00m \u001b[38;5;28mself\u001b[39m\u001b[38;5;241m.\u001b[39m_compiled_call_impl(\u001b[38;5;241m*\u001b[39margs, \u001b[38;5;241m*\u001b[39m\u001b[38;5;241m*\u001b[39mkwargs)  \u001b[38;5;66;03m# type: ignore[misc]\u001b[39;00m\n\u001b[1;32m   1738\u001b[0m \u001b[38;5;28;01melse\u001b[39;00m:\n\u001b[0;32m-> 1739\u001b[0m     \u001b[38;5;28;01mreturn\u001b[39;00m \u001b[38;5;28mself\u001b[39m\u001b[38;5;241m.\u001b[39m_call_impl(\u001b[38;5;241m*\u001b[39margs, \u001b[38;5;241m*\u001b[39m\u001b[38;5;241m*\u001b[39mkwargs)\n",
      "File \u001b[0;32m~/miniconda3/envs/fengyun/lib/python3.11/site-packages/torch/nn/modules/module.py:1750\u001b[0m, in \u001b[0;36mModule._call_impl\u001b[0;34m(self, *args, **kwargs)\u001b[0m\n\u001b[1;32m   1745\u001b[0m \u001b[38;5;66;03m# If we don't have any hooks, we want to skip the rest of the logic in\u001b[39;00m\n\u001b[1;32m   1746\u001b[0m \u001b[38;5;66;03m# this function, and just call forward.\u001b[39;00m\n\u001b[1;32m   1747\u001b[0m \u001b[38;5;28;01mif\u001b[39;00m \u001b[38;5;129;01mnot\u001b[39;00m (\u001b[38;5;28mself\u001b[39m\u001b[38;5;241m.\u001b[39m_backward_hooks \u001b[38;5;129;01mor\u001b[39;00m \u001b[38;5;28mself\u001b[39m\u001b[38;5;241m.\u001b[39m_backward_pre_hooks \u001b[38;5;129;01mor\u001b[39;00m \u001b[38;5;28mself\u001b[39m\u001b[38;5;241m.\u001b[39m_forward_hooks \u001b[38;5;129;01mor\u001b[39;00m \u001b[38;5;28mself\u001b[39m\u001b[38;5;241m.\u001b[39m_forward_pre_hooks\n\u001b[1;32m   1748\u001b[0m         \u001b[38;5;129;01mor\u001b[39;00m _global_backward_pre_hooks \u001b[38;5;129;01mor\u001b[39;00m _global_backward_hooks\n\u001b[1;32m   1749\u001b[0m         \u001b[38;5;129;01mor\u001b[39;00m _global_forward_hooks \u001b[38;5;129;01mor\u001b[39;00m _global_forward_pre_hooks):\n\u001b[0;32m-> 1750\u001b[0m     \u001b[38;5;28;01mreturn\u001b[39;00m forward_call(\u001b[38;5;241m*\u001b[39margs, \u001b[38;5;241m*\u001b[39m\u001b[38;5;241m*\u001b[39mkwargs)\n\u001b[1;32m   1752\u001b[0m result \u001b[38;5;241m=\u001b[39m \u001b[38;5;28;01mNone\u001b[39;00m\n\u001b[1;32m   1753\u001b[0m called_always_called_hooks \u001b[38;5;241m=\u001b[39m \u001b[38;5;28mset\u001b[39m()\n",
      "File \u001b[0;32m~/miniconda3/envs/fengyun/lib/python3.11/site-packages/torch_geometric/nn/conv/gatv2_conv.py:325\u001b[0m, in \u001b[0;36mGATv2Conv.forward\u001b[0;34m(self, x, edge_index, edge_attr, return_attention_weights)\u001b[0m\n\u001b[1;32m    319\u001b[0m             \u001b[38;5;28;01mraise\u001b[39;00m \u001b[38;5;167;01mNotImplementedError\u001b[39;00m(\n\u001b[1;32m    320\u001b[0m                 \u001b[38;5;124m\"\u001b[39m\u001b[38;5;124mThe usage of \u001b[39m\u001b[38;5;124m'\u001b[39m\u001b[38;5;124medge_attr\u001b[39m\u001b[38;5;124m'\u001b[39m\u001b[38;5;124m and \u001b[39m\u001b[38;5;124m'\u001b[39m\u001b[38;5;124madd_self_loops\u001b[39m\u001b[38;5;124m'\u001b[39m\u001b[38;5;124m \u001b[39m\u001b[38;5;124m\"\u001b[39m\n\u001b[1;32m    321\u001b[0m                 \u001b[38;5;124m\"\u001b[39m\u001b[38;5;124msimultaneously is currently not yet supported for \u001b[39m\u001b[38;5;124m\"\u001b[39m\n\u001b[1;32m    322\u001b[0m                 \u001b[38;5;124m\"\u001b[39m\u001b[38;5;124m'\u001b[39m\u001b[38;5;124medge_index\u001b[39m\u001b[38;5;124m'\u001b[39m\u001b[38;5;124m in a \u001b[39m\u001b[38;5;124m'\u001b[39m\u001b[38;5;124mSparseTensor\u001b[39m\u001b[38;5;124m'\u001b[39m\u001b[38;5;124m form\u001b[39m\u001b[38;5;124m\"\u001b[39m)\n\u001b[1;32m    324\u001b[0m \u001b[38;5;66;03m# edge_updater_type: (x: PairTensor, edge_attr: OptTensor)\u001b[39;00m\n\u001b[0;32m--> 325\u001b[0m alpha \u001b[38;5;241m=\u001b[39m \u001b[38;5;28mself\u001b[39m\u001b[38;5;241m.\u001b[39medge_updater(edge_index, x\u001b[38;5;241m=\u001b[39m(x_l, x_r),\n\u001b[1;32m    326\u001b[0m                           edge_attr\u001b[38;5;241m=\u001b[39medge_attr)\n\u001b[1;32m    328\u001b[0m \u001b[38;5;66;03m# propagate_type: (x: PairTensor, alpha: Tensor)\u001b[39;00m\n\u001b[1;32m    329\u001b[0m out \u001b[38;5;241m=\u001b[39m \u001b[38;5;28mself\u001b[39m\u001b[38;5;241m.\u001b[39mpropagate(edge_index, x\u001b[38;5;241m=\u001b[39m(x_l, x_r), alpha\u001b[38;5;241m=\u001b[39malpha)\n",
      "File \u001b[0;32m/tmp/torch_geometric.nn.conv.gatv2_conv_GATv2Conv_edge_updater_uehwq6og.py:145\u001b[0m, in \u001b[0;36medge_updater\u001b[0;34m(self, edge_index, x, edge_attr, size)\u001b[0m\n\u001b[1;32m    135\u001b[0m \u001b[38;5;28;01mdef\u001b[39;00m\u001b[38;5;250m \u001b[39m\u001b[38;5;21medge_updater\u001b[39m(\n\u001b[1;32m    136\u001b[0m     \u001b[38;5;28mself\u001b[39m,\n\u001b[1;32m    137\u001b[0m     edge_index: Union[Tensor, SparseTensor],\n\u001b[0;32m   (...)\u001b[0m\n\u001b[1;32m    140\u001b[0m     size: Size \u001b[38;5;241m=\u001b[39m \u001b[38;5;28;01mNone\u001b[39;00m,\n\u001b[1;32m    141\u001b[0m ) \u001b[38;5;241m-\u001b[39m\u001b[38;5;241m>\u001b[39m Tensor:\n\u001b[1;32m    143\u001b[0m     mutable_size \u001b[38;5;241m=\u001b[39m \u001b[38;5;28mself\u001b[39m\u001b[38;5;241m.\u001b[39m_check_input(edge_index, size)\n\u001b[0;32m--> 145\u001b[0m     kwargs \u001b[38;5;241m=\u001b[39m \u001b[38;5;28mself\u001b[39m\u001b[38;5;241m.\u001b[39medge_collect(\n\u001b[1;32m    146\u001b[0m         edge_index,\n\u001b[1;32m    147\u001b[0m         x,\n\u001b[1;32m    148\u001b[0m         edge_attr,\n\u001b[1;32m    149\u001b[0m         mutable_size,\n\u001b[1;32m    150\u001b[0m     )\n\u001b[1;32m    152\u001b[0m     \u001b[38;5;66;03m# Begin Edge Update Forward Pre Hook #######################################\u001b[39;00m\n\u001b[1;32m    153\u001b[0m     \u001b[38;5;28;01mif\u001b[39;00m \u001b[38;5;129;01mnot\u001b[39;00m torch\u001b[38;5;241m.\u001b[39mjit\u001b[38;5;241m.\u001b[39mis_scripting() \u001b[38;5;129;01mand\u001b[39;00m \u001b[38;5;129;01mnot\u001b[39;00m is_compiling():\n",
      "File \u001b[0;32m/tmp/torch_geometric.nn.conv.gatv2_conv_GATv2Conv_edge_updater_uehwq6og.py:109\u001b[0m, in \u001b[0;36medge_collect\u001b[0;34m(self, edge_index, x, edge_attr, size)\u001b[0m\n\u001b[1;32m    107\u001b[0m \u001b[38;5;28;01mif\u001b[39;00m \u001b[38;5;28misinstance\u001b[39m(_x_1, Tensor):\n\u001b[1;32m    108\u001b[0m     \u001b[38;5;28mself\u001b[39m\u001b[38;5;241m.\u001b[39m_set_size(size, \u001b[38;5;241m1\u001b[39m, _x_1)\n\u001b[0;32m--> 109\u001b[0m     x_i \u001b[38;5;241m=\u001b[39m \u001b[38;5;28mself\u001b[39m\u001b[38;5;241m.\u001b[39m_index_select(_x_1, edge_index_i)\n\u001b[1;32m    110\u001b[0m \u001b[38;5;28;01melse\u001b[39;00m:\n\u001b[1;32m    111\u001b[0m     x_i \u001b[38;5;241m=\u001b[39m \u001b[38;5;28;01mNone\u001b[39;00m\n",
      "File \u001b[0;32m~/miniconda3/envs/fengyun/lib/python3.11/site-packages/torch_geometric/nn/conv/message_passing.py:267\u001b[0m, in \u001b[0;36mMessagePassing._index_select\u001b[0;34m(self, src, index)\u001b[0m\n\u001b[1;32m    265\u001b[0m     \u001b[38;5;28;01mreturn\u001b[39;00m src\u001b[38;5;241m.\u001b[39mindex_select(\u001b[38;5;28mself\u001b[39m\u001b[38;5;241m.\u001b[39mnode_dim, index)\n\u001b[1;32m    266\u001b[0m \u001b[38;5;28;01melse\u001b[39;00m:\n\u001b[0;32m--> 267\u001b[0m     \u001b[38;5;28;01mreturn\u001b[39;00m \u001b[38;5;28mself\u001b[39m\u001b[38;5;241m.\u001b[39m_index_select_safe(src, index)\n",
      "File \u001b[0;32m~/miniconda3/envs/fengyun/lib/python3.11/site-packages/torch_geometric/nn/conv/message_passing.py:290\u001b[0m, in \u001b[0;36mMessagePassing._index_select_safe\u001b[0;34m(self, src, index)\u001b[0m\n\u001b[1;32m    281\u001b[0m \u001b[38;5;28;01mif\u001b[39;00m (index\u001b[38;5;241m.\u001b[39mnumel() \u001b[38;5;241m>\u001b[39m \u001b[38;5;241m0\u001b[39m \u001b[38;5;129;01mand\u001b[39;00m index\u001b[38;5;241m.\u001b[39mmax() \u001b[38;5;241m>\u001b[39m\u001b[38;5;241m=\u001b[39m src\u001b[38;5;241m.\u001b[39msize(\u001b[38;5;28mself\u001b[39m\u001b[38;5;241m.\u001b[39mnode_dim)):\n\u001b[1;32m    282\u001b[0m     \u001b[38;5;28;01mraise\u001b[39;00m \u001b[38;5;167;01mIndexError\u001b[39;00m(\n\u001b[1;32m    283\u001b[0m         \u001b[38;5;124mf\u001b[39m\u001b[38;5;124m\"\u001b[39m\u001b[38;5;124mFound indices in \u001b[39m\u001b[38;5;124m'\u001b[39m\u001b[38;5;124medge_index\u001b[39m\u001b[38;5;124m'\u001b[39m\u001b[38;5;124m that are larger \u001b[39m\u001b[38;5;124m\"\u001b[39m\n\u001b[1;32m    284\u001b[0m         \u001b[38;5;124mf\u001b[39m\u001b[38;5;124m\"\u001b[39m\u001b[38;5;124mthan \u001b[39m\u001b[38;5;132;01m{\u001b[39;00msrc\u001b[38;5;241m.\u001b[39msize(\u001b[38;5;28mself\u001b[39m\u001b[38;5;241m.\u001b[39mnode_dim)\u001b[38;5;250m \u001b[39m\u001b[38;5;241m-\u001b[39m\u001b[38;5;250m \u001b[39m\u001b[38;5;241m1\u001b[39m\u001b[38;5;132;01m}\u001b[39;00m\u001b[38;5;124m (got \u001b[39m\u001b[38;5;124m\"\u001b[39m\n\u001b[0;32m   (...)\u001b[0m\n\u001b[1;32m    287\u001b[0m         \u001b[38;5;124mf\u001b[39m\u001b[38;5;124m\"\u001b[39m\u001b[38;5;124min the interval [0, \u001b[39m\u001b[38;5;132;01m{\u001b[39;00msrc\u001b[38;5;241m.\u001b[39msize(\u001b[38;5;28mself\u001b[39m\u001b[38;5;241m.\u001b[39mnode_dim)\u001b[38;5;132;01m}\u001b[39;00m\u001b[38;5;124m) in \u001b[39m\u001b[38;5;124m\"\u001b[39m\n\u001b[1;32m    288\u001b[0m         \u001b[38;5;124mf\u001b[39m\u001b[38;5;124m\"\u001b[39m\u001b[38;5;124myour node feature matrix and try again.\u001b[39m\u001b[38;5;124m\"\u001b[39m)\n\u001b[0;32m--> 290\u001b[0m \u001b[38;5;28;01mraise\u001b[39;00m e\n",
      "File \u001b[0;32m~/miniconda3/envs/fengyun/lib/python3.11/site-packages/torch_geometric/nn/conv/message_passing.py:271\u001b[0m, in \u001b[0;36mMessagePassing._index_select_safe\u001b[0;34m(self, src, index)\u001b[0m\n\u001b[1;32m    269\u001b[0m \u001b[38;5;28;01mdef\u001b[39;00m\u001b[38;5;250m \u001b[39m\u001b[38;5;21m_index_select_safe\u001b[39m(\u001b[38;5;28mself\u001b[39m, src: Tensor, index: Tensor) \u001b[38;5;241m-\u001b[39m\u001b[38;5;241m>\u001b[39m Tensor:\n\u001b[1;32m    270\u001b[0m     \u001b[38;5;28;01mtry\u001b[39;00m:\n\u001b[0;32m--> 271\u001b[0m         \u001b[38;5;28;01mreturn\u001b[39;00m src\u001b[38;5;241m.\u001b[39mindex_select(\u001b[38;5;28mself\u001b[39m\u001b[38;5;241m.\u001b[39mnode_dim, index)\n\u001b[1;32m    272\u001b[0m     \u001b[38;5;28;01mexcept\u001b[39;00m (\u001b[38;5;167;01mIndexError\u001b[39;00m, \u001b[38;5;167;01mRuntimeError\u001b[39;00m) \u001b[38;5;28;01mas\u001b[39;00m e:\n\u001b[1;32m    273\u001b[0m         \u001b[38;5;28;01mif\u001b[39;00m index\u001b[38;5;241m.\u001b[39mnumel() \u001b[38;5;241m>\u001b[39m \u001b[38;5;241m0\u001b[39m \u001b[38;5;129;01mand\u001b[39;00m index\u001b[38;5;241m.\u001b[39mmin() \u001b[38;5;241m<\u001b[39m \u001b[38;5;241m0\u001b[39m:\n",
      "\u001b[0;31mOutOfMemoryError\u001b[0m: CUDA out of memory. Tried to allocate 66.00 MiB. GPU 0 has a total capacity of 79.15 GiB of which 19.75 MiB is free. Process 68034 has 77.48 GiB memory in use. Including non-PyTorch memory, this process has 1.63 GiB memory in use. Of the allocated memory 1.11 GiB is allocated by PyTorch, and 25.52 MiB is reserved by PyTorch but unallocated. If reserved but unallocated memory is large try setting PYTORCH_CUDA_ALLOC_CONF=expandable_segments:True to avoid fragmentation.  See documentation for Memory Management  (https://pytorch.org/docs/stable/notes/cuda.html#environment-variables)"
     ]
    }
   ],
   "source": [
    "# Fit model\n",
    "trainer.fit(\n",
    "    model=ls,\n",
    "    datamodule=dm\n",
    ")"
   ]
  },
  {
   "cell_type": "markdown",
   "id": "e6214a79",
   "metadata": {},
   "source": [
    "Key parameters for training:\n",
    "- **`--data_dir`**: Directory containing the training data.\n",
    "- **`--model_dir`**: Directory in which to store models.\n",
    "- **`--epochs`**: Specifies the number of training epochs.\n",
    "- **`--batch_size`**: Batch sizes for training and validation data.\n",
    "- **`--learning_rate`**: The initial learning rate for the optimizer.\n",
    "- **`--hidden_channels`**: Number of hidden channels in the GNN layers.\n",
    "- **`--heads`**: Number of attention heads used in each graph convolutional layer.\n",
    "- **`--init_emb`**: Sets the dimensionality of the initial embeddings applied to the input node features (e.g., transcripts). A higher embedding dimension may capture more feature complexity but also requires more computation.\n",
    "- **`--out_channels`**: Specifies the number of output channels after the final graph attention layer, e.g. the final learned representations of the graph nodes.\n",
    "\n",
    "Additional Options for Training the Segger Model:\n",
    "\n",
    "- **`--aggr`**: This option controls the aggregation method used in the graph convolution layers.\n",
    "- **`--accelerator`**: Controls the hardware used for training, such as `cuda` for GPU training. This enables Segger to leverage GPU resources for faster training, especially useful for large datasets.\n",
    "- **`--strategy`**: Defines the distributed training strategy, with `auto` allowing PyTorch Lightning to automatically configure the best strategy based on the hardware setup.\n",
    "- **`--precision`**: Enables mixed precision training (e.g., `16-mixed`), which can speed up training and reduce memory usage while maintaining accuracy."
   ]
  },
  {
   "cell_type": "markdown",
   "id": "9a7d20c6-ca16-4beb-b627-afb41e3fb491",
   "metadata": {
    "id": "9a7d20c6-ca16-4beb-b627-afb41e3fb491"
   },
   "source": [
    "### *Troubleshooting #1*\n",
    "\n",
    "In the cell below, we are visualizing key metrics from the model training and validation process. The plot displays **training loss**, **validation loss**, **F1 validation score**, and **AUROC validation score** over training steps. We expect to see the loss curves decreasing over time, signaling the model's improvement, and the F1 and AUROC scores increasing, reflecting improved segmentation performance as the model learns.\n",
    "\n",
    "If training is not working effectively, you might observe the following in the plot displaying **training loss**, **validation loss**, **F1 score**, and **AUROC**:\n",
    "\n",
    "- **Training loss not decreasing**: If the training loss remains high or fluctuates without a consistent downward trend, this indicates that the model is not learning effectively from the training data.\n",
    "- **Validation loss decreases, then increases**: If validation loss decreases initially but starts to increase while training loss continues to drop, this could be a sign of **overfitting**, where the model is performing well on the training data but not generalizing to the validation data.\n",
    "- **F1 score and AUROC not improving**: If these metrics remain flat or show inconsistent improvement, the model may be struggling to correctly segment cells or classify transcripts, indicating an issue with learning performance.\n"
   ]
  },
  {
   "cell_type": "code",
   "execution_count": null,
   "id": "43a9c1a4-3898-407d-ac0f-f98b13694593",
   "metadata": {
    "id": "43a9c1a4-3898-407d-ac0f-f98b13694593",
    "outputId": "70ba8e1b-7814-497a-c8b6-8aa7295cd4d9"
   },
   "outputs": [],
   "source": [
    "# Evaluate results\n",
    "model_version = 0  # 'v_num' from training output above\n",
    "model_path = models_dir / 'lightning_logs' / f'version_{model_version}'\n",
    "metrics = pd.read_csv(model_path / 'metrics.csv', index_col=1)\n",
    "\n",
    "fig, ax = plt.subplots(1,1, figsize=(2,2))\n",
    "\n",
    "for col in metrics.columns.difference(['epoch']):\n",
    "    metric = metrics[col].dropna()\n",
    "    ax.plot(metric.index, metric.values, label=col)\n",
    "\n",
    "ax.legend(loc=(1, 0.33))\n",
    "ax.set_ylim(0, 1)\n",
    "ax.set_xlabel('Step')"
   ]
  },
  {
   "cell_type": "markdown",
   "id": "e73687e1-ee8f-46e9-8bd2-1ddc571ef94b",
   "metadata": {
    "id": "e73687e1-ee8f-46e9-8bd2-1ddc571ef94b"
   },
   "source": [
    "# **3. Make Predictions**\n",
    "\n",
    "Once the Segger model is trained, it can be used to make predictions on seen (partially trained) data or be transfered to unseen data. This step involves using a trained checkpoint to predict cell boundaries and refine transcript-nuclei associations."
   ]
  },
  {
   "cell_type": "markdown",
   "id": "9807abf3",
   "metadata": {
    "id": "9807abf3"
   },
   "source": [
    "#### **Requirements for the Faster Prediction Pipeline**\n",
    "The pipeline requires the following inputs:\n",
    "\n",
    "- **segger_data_dir**: The directory containing the processed Segger dataset (in PyG format).\n",
    "- **models_dir**: The directory containing the trained Segger model checkpoints.\n",
    "- **benchmarks_dir**: The directory where the segmentation results will be saved.\n",
    "- **transcripts_file**: Path to the file containing the transcript data for prediction.\n",
    "\n",
    "#### **Running the Faster Prediction Pipeline**\n",
    "Below is an example of how to run the faster Segger prediction pipeline using the command line:"
   ]
  },
  {
   "cell_type": "code",
   "execution_count": null,
   "id": "PEOtAs-t9CiY",
   "metadata": {
    "colab": {
     "base_uri": "https://localhost:8080/"
    },
    "id": "PEOtAs-t9CiY",
    "outputId": "8b7a5375-9ebc-4bb4-9421-254410319120"
   },
   "outputs": [
    {
     "name": "stdout",
     "output_type": "stream",
     "text": [
      "Starting segmentation for segger_embedding_1001...\n"
     ]
    }
   ],
   "source": [
    "dm = SeggerDataModule(\n",
    "    data_dir='data_segger',\n",
    "    batch_size=1,\n",
    "    num_workers=4,\n",
    ")\n",
    "\n",
    "dm.setup()\n",
    "\n",
    "model_version = 0\n",
    "model_path = Path('models') / \"lightning_logs\" / f\"version_{model_version}\"\n",
    "model = load_model(model_path / \"checkpoints\")\n",
    "\n",
    "receptive_field = {'k_bd': 4, 'dist_bd': 12, 'k_tx': 15, 'dist_tx': 3}\n",
    "\n",
    "segment(\n",
    "    model,\n",
    "    dm,\n",
    "    save_dir='benchmarks',\n",
    "    seg_tag='segger_output',\n",
    "    transcript_file='data_xenium/transcripts.parquet',\n",
    "    receptive_field=receptive_field,\n",
    "    min_transcripts=5,\n",
    "    cell_id_col='segger_cell_id',\n",
    "    use_cc=False,\n",
    "    knn_method='kd_tree',\n",
    "    verbose=True,\n",
    ")\n"
   ]
  },
  {
   "cell_type": "markdown",
   "id": "0a823035",
   "metadata": {
    "id": "0a823035"
   },
   "source": [
    "#### **Parameters**\n",
    "Here is a detailed explanation of each parameter used in the faster prediction pipeline:\n",
    "\n",
    "- **--segger_data_dir**: The directory containing the processed Segger dataset, saved as PyTorch Geometric data objects, that will be used for prediction.\n",
    "- **--models_dir**: The directory containing the trained Segger model checkpoints. These checkpoints store the learned weights required for making predictions.\n",
    "- **--benchmarks_dir**: The directory where the segmentation results will be saved.\n",
    "- **--transcripts_file**: Path to the *transcripts.parquet* file.\n",
    "- **--batch_size**: Specifies the batch size for processing during prediction. Larger batch sizes speed up inference but use more memory (default: 1).\n",
    "- **--num_workers**: Number of workers to use for parallel data loading (default: 1).\n",
    "- **--model_version**: Version of the trained model to load for predictions, based on the version number from the training logs (default: 0).\n",
    "- **--save_tag**: A tag used to name and organize the segmentation results (default: segger_embedding).\n",
    "- **--min_transcripts**: The minimum number of transcripts required for segmentation (default: 5).\n",
    "- **--cell_id_col**: The name of the column that stores the cell IDs (default: segger_cell_id).\n",
    "- **--use_cc**: Enables the use of connected components (CC) for grouping transcripts that are not associated with any nucleus (default: False).\n",
    "- **--knn_method**: Method for KNN (K-Nearest Neighbors) computation. Only option is \"cuda\" for this pipeline (default: cuda).\n",
    "- **--file_format**: The format for saving the output segmentation data. Only option is \"anndata\" for this pipeline (default: anndata).\n",
    "- **--k_bd**: Number of nearest neighbors for boundary nodes during segmentation (default: 4).\n",
    "- **--dist_bd**: Maximum distance for boundary nodes during segmentation (default: 12.0).\n",
    "- **--k_tx**: Number of nearest neighbors for transcript nodes during segmentation (default: 5).\n",
    "- **--dist_tx**: Maximum distance for transcript nodes during segmentation (default: 5.0)."
   ]
  },
  {
   "cell_type": "markdown",
   "id": "b0917be9-4e82-4ba5-869d-5a9203721699",
   "metadata": {
    "execution": {
     "iopub.execute_input": "2024-09-11T23:06:23.977884Z",
     "iopub.status.busy": "2024-09-11T23:06:23.977517Z"
    },
    "id": "b0917be9-4e82-4ba5-869d-5a9203721699"
   },
   "source": [
    "### *Troubleshooting #2*\n",
    "\n",
    "In the cell below, we are visualizing the distribution of **Segger similarity scores** using a histogram. The **Segger similarity score** reflects how closely transcripts are associated with their respective nuclei in the segmentation process. **Higher scores** indicate stronger associations between transcripts and their nuclei, suggesting more accurate cell boundaries. **Lower scores** might indicate weaker associations, which could highlight potential segmentation errors or challenging regions in the data. We expect to see a large number of the scores clustering toward higher values, which would indicate strong overall performance of the model in associating transcripts with nuclei.\n",
    "\n",
    "The following would indicate potential issues with the model's predictions:\n",
    "\n",
    "- **A very large portion of scores near zero**: If many scores are concentrated at the lower end of the scale, this suggests that the model is frequently failing to associate transcripts with their corresponding nuclei, indicating poor segmentation quality.\n",
    "- **No clear peak in the distribution**: If the histogram is flat or shows a wide, spread-out distribution, this could indicate that the model is struggling to consistently assign similarity scores, which may be a sign that the training process did not optimize the model correctly.\n",
    "\n",
    "Both cases would suggest that the model requires further tuning, such as adjusting hyperparameters, data preprocessing, or the training procedure (see below)\n"
   ]
  },
  {
   "cell_type": "code",
   "execution_count": null,
   "id": "a450d3ca-2876-4f48-be89-761147b17387",
   "metadata": {
    "execution": {
     "iopub.execute_input": "2024-09-11T22:07:04.216273Z",
     "iopub.status.busy": "2024-09-11T22:07:04.215965Z",
     "iopub.status.idle": "2024-09-11T22:07:08.177601Z",
     "shell.execute_reply": "2024-09-11T22:07:08.177158Z",
     "shell.execute_reply.started": "2024-09-11T22:07:04.216257Z"
    },
    "id": "a450d3ca-2876-4f48-be89-761147b17387",
    "outputId": "0576e0b8-4823-4701-b661-dc6b513841f2"
   },
   "outputs": [
    {
     "data": {
      "image/png": "[encoded data removed]",
      "text/plain": [
       "<Figure size 600x600 with 1 Axes>"
      ]
     },
     "metadata": {},
     "output_type": "display_data"
    }
   ],
   "source": [
    "fig, ax = plt.subplots(1,1, figsize=(2,2))\n",
    "sns.histplot(\n",
    "    segmentation['score'],\n",
    "    bins=50,\n",
    "    ax=ax,\n",
    ")\n",
    "ax.set_ylabel('Count')\n",
    "ax.set_xlabel('Segger Similarity Score')\n",
    "ax.set_yscale('log')"
   ]
  },
  {
   "cell_type": "markdown",
   "id": "5492fb96-bf8e-49d5-b40e-7e6b3f871bbe",
   "metadata": {
    "execution": {
     "iopub.execute_input": "2024-09-11T22:34:15.990223Z",
     "iopub.status.busy": "2024-09-11T22:34:15.988880Z"
    },
    "id": "5492fb96-bf8e-49d5-b40e-7e6b3f871bbe"
   },
   "source": [
    "#### The Importance of the Receptive Field in Segger\n",
    "\n",
    "The **receptive field** is a critical parameter in Segger, as it directly influences how the model interprets the spatial relationships between **transcripts** and **nuclei**. In the context of spatial transcriptomics, the receptive field determines the size of the neighborhood that each node (representing transcripts or nuclei) can \"see\" during graph construction and model training. Segger is particularly sensitive to the size of the receptive field because it affects the model's ability to propagate information across the graph. If the receptive field is too small, the model may fail to capture sufficient context for correct cell boundary delineation. Conversely, a very large receptive field may introduce noise by linking unrelated or distant nodes, reducing segmentation accuracy.\n",
    "\n",
    "#### Parameters affecting the receptive field in Segger:\n",
    "- **`--r`**: This parameter defines the radius used when connecting transcripts to nuclei. A larger `r` expands the receptive field, linking more distant nodes. Fine-tuning this parameter helps ensure that Segger captures the right level of spatial interaction in the dataset.\n",
    "- **`--k_bd` and `--k_tx`**: These control the number of nearest neighbors (nuclei and transcripts, respectively) considered in the graph. By increasing these values, the receptive field is effectively broadened, allowing more nodes to contribute to the information propagation.\n",
    "- **`--dist_bd` and `--dist_tx`**: These parameters specify the maximum distances used to connect nuclei (`dist_bd`) and transcripts (`dist_tx`) to their neighbors during graph construction. They directly affect the receptive field by defining the cut-off distance for forming edges in the graph. Larger distance values expand the receptive field, connecting nodes that are further apart spatially. Careful tuning of these values is necessary to ensure that Segger captures relevant spatial relationships without introducing noise."
   ]
  },
  {
   "cell_type": "markdown",
   "id": "7ece1ac0-0708-45e2-87fc-1b25782831f8",
   "metadata": {
    "id": "7ece1ac0-0708-45e2-87fc-1b25782831f8"
   },
   "source": [
    "# **4. Tune Parameters**"
   ]
  },
  {
   "cell_type": "markdown",
   "id": "896b8288-5287-4d10-a206-e68c0e4731c6",
   "metadata": {
    "id": "896b8288-5287-4d10-a206-e68c0e4731c6"
   },
   "source": [
    "### Evaluating Receptive Field Parameters with Grid Search\n",
    "\n",
    "To evaluate the impact of different receptive field parameters in Segger, we use a **grid search** approach. The parameters `k_bd`, `k_tx`, `dist_bd`, and `dist_tx` (which control the number of neighbors and distances for nuclei and transcripts) are explored through various configurations defined in `param_space`. Each combination of these parameters is passed to the `trainable` function, which creates the dataset, trains the model, and makes predictions based on the specified receptive field.\n",
    "\n",
    "For each parameter combination:\n",
    "1. A dataset is created with the specified receptive field.\n",
    "2. The Segger model is trained on this dataset.\n",
    "3. Predictions are made, and segmentation results are evaluated using the custom `evaluate` function. This function computes metrics like the fraction of assigned transcripts and average cell sizes.\n",
    "\n",
    "The results from each configuration are saved, allowing us to compare how different receptive field settings impact the model’s performance. This process enables a thorough search of the parameter space, optimizing the model for accurate segmentation."
   ]
  },
  {
   "cell_type": "code",
   "execution_count": null,
   "id": "b0c1a7a8-acb2-4aae-8ae4-8aa9a4196717",
   "metadata": {
    "execution": {
     "iopub.execute_input": "2024-09-12T01:10:47.781418Z",
     "iopub.status.busy": "2024-09-12T01:10:47.781067Z",
     "iopub.status.idle": "2024-09-12T01:10:48.706615Z",
     "shell.execute_reply": "2024-09-12T01:10:48.706194Z",
     "shell.execute_reply.started": "2024-09-12T01:10:47.781401Z"
    },
    "id": "b0c1a7a8-acb2-4aae-8ae4-8aa9a4196717"
   },
   "outputs": [],
   "source": [
    "import itertools\n",
    "import pandas as pd"
   ]
  },
  {
   "cell_type": "code",
   "execution_count": null,
   "id": "0bd0803c-e58d-4f43-9627-d2c1ab187d5e",
   "metadata": {
    "execution": {
     "iopub.execute_input": "2024-09-12T01:16:31.976312Z",
     "iopub.status.busy": "2024-09-12T01:16:31.975947Z",
     "iopub.status.idle": "2024-09-12T01:16:33.168389Z",
     "shell.execute_reply": "2024-09-12T01:16:33.167956Z",
     "shell.execute_reply.started": "2024-09-12T01:16:31.976295Z"
    },
    "id": "0bd0803c-e58d-4f43-9627-d2c1ab187d5e"
   },
   "outputs": [],
   "source": [
    "tuning_dir = Path('path/to/tutorial/tuning/')\n",
    "sampling_rate = 0.125"
   ]
  },
  {
   "cell_type": "code",
   "execution_count": null,
   "id": "b879a0b5-150c-4240-99ec-81075855aa52",
   "metadata": {
    "execution": {
     "iopub.execute_input": "2024-09-12T01:16:33.169525Z",
     "iopub.status.busy": "2024-09-12T01:16:33.169189Z",
     "iopub.status.idle": "2024-09-12T01:16:34.147222Z",
     "shell.execute_reply": "2024-09-12T01:16:34.146804Z",
     "shell.execute_reply.started": "2024-09-12T01:16:33.169508Z"
    },
    "id": "b879a0b5-150c-4240-99ec-81075855aa52",
    "jupyter": {
     "source_hidden": true
    }
   },
   "outputs": [],
   "source": [
    "# Fixed function arguments used for each trial\n",
    "transcripts_path = xenium_data_dir / 'transcripts.parquet'\n",
    "\n",
    "boundaries_path = xenium_data_dir / 'nucleus_boundaries.parquet'\n",
    "\n",
    "dataset_kwargs = dict(\n",
    "    x_size=80, y_size=80, d_x=80, d_y=80, margin_x=10, margin_y=10,\n",
    "    num_workers=4, sampling_rate=sampling_rate,\n",
    ")\n",
    "\n",
    "model_kwargs = dict(\n",
    "    metadata=(['tx', 'bd'], [('tx', 'belongs', 'bd'), ('tx', 'neighbors', 'tx')]),\n",
    "    num_tx_tokens=500, init_emb=8, hidden_channels=32, out_channels=8,\n",
    "    heads=2, num_mid_layers=2, aggr='sum',\n",
    ")\n",
    "\n",
    "trainer_kwargs = dict(\n",
    "    accelerator='cuda', strategy='auto', precision='16-mixed', devices=1,\n",
    "    max_epochs=100,\n",
    ")\n",
    "\n",
    "predict_kwargs = dict(score_cut=0.2, use_cc=True)"
   ]
  },
  {
   "cell_type": "code",
   "execution_count": null,
   "id": "fbd831c9-3a50-4e3b-97d3-3c152ae01188",
   "metadata": {
    "id": "fbd831c9-3a50-4e3b-97d3-3c152ae01188",
    "jupyter": {
     "source_hidden": true
    }
   },
   "outputs": [],
   "source": [
    "def trainable(config):\n",
    "\n",
    "    receptive_field = {k: config[k] for k in ['k_bd', 'k_tx', 'dist_bd', 'dist_tx']}\n",
    "\n",
    "    # Dataset creation\n",
    "    xs = XeniumSample(verbose=False)\n",
    "    xs.set_file_paths(transcripts_path, boundaries_path)\n",
    "    xs.set_metadata()\n",
    "    try:\n",
    "        xs.save_dataset_for_segger(\n",
    "            processed_dir=config['data_dir'],\n",
    "            receptive_field=receptive_field,\n",
    "            **dataset_kwargs,\n",
    "        )\n",
    "    except:\n",
    "        pass\n",
    "\n",
    "    # Model training\n",
    "    ls = LitSegger(**model_kwargs)\n",
    "    dm = SeggerDataModule(\n",
    "        data_dir=config['data_dir'],\n",
    "        batch_size=2,\n",
    "        num_workers=dataset_kwargs['num_workers'],\n",
    "    )\n",
    "    trainer = Trainer(\n",
    "        default_root_dir=config['model_dir'],\n",
    "        logger=CSVLogger(config['model_dir']),\n",
    "        **trainer_kwargs,\n",
    "    )\n",
    "    trainer.fit(model=ls, datamodule=dm)\n",
    "\n",
    "    segmentation = predict(\n",
    "        load_model(config['model_dir']/'lightning_logs/version_0/checkpoints'),\n",
    "        dm.train_dataloader(),\n",
    "        receptive_field=receptive_field,\n",
    "        **predict_kwargs,\n",
    "    )\n",
    "\n",
    "    metrics = evaluate(segmentation)\n",
    "\n",
    "\n",
    "def evaluate(segmentation: pd.DataFrame, score_cut: float) -> pd.Series:\n",
    "\n",
    "    assigned = segmentation['score'] > score_cut\n",
    "    metrics = pd.Series(dtype=float)\n",
    "    metrics['frac_assigned'] = assigned.mean()\n",
    "    cell_sizes = segmentation.groupby(assigned)['segger_cell_id'].value_counts()\n",
    "    assigned_avg = 0 if True not in cell_sizes.index else cell_sizes[True].mean()\n",
    "    cc_avg = 0 if False not in cell_sizes.index else cell_sizes[False].mean()\n",
    "    metrics['cell_size_assigned'] = assigned_avg\n",
    "    metrics['cell_size_cc'] = cc_avg\n",
    "    return metrics"
   ]
  },
  {
   "cell_type": "code",
   "execution_count": null,
   "id": "ba2dcc9a-3a06-4b84-a487-59a768eed5d5",
   "metadata": {
    "execution": {
     "iopub.execute_input": "2024-09-12T01:16:35.184598Z",
     "iopub.status.busy": "2024-09-12T01:16:35.184180Z",
     "iopub.status.idle": "2024-09-12T01:19:55.171470Z",
     "shell.execute_reply": "2024-09-12T01:19:55.170810Z",
     "shell.execute_reply.started": "2024-09-12T01:16:35.184582Z"
    },
    "id": "ba2dcc9a-3a06-4b84-a487-59a768eed5d5",
    "scrolled": true
   },
   "outputs": [],
   "source": [
    "param_space = {\n",
    "    \"k_bd\": [3, 5, 10],\n",
    "    \"dist_bd\": [5, 10, 15, 20],\n",
    "    \"k_tx\": [3, 5, 10],\n",
    "    \"dist_tx\": [3, 5, 10],\n",
    "}\n",
    "\n",
    "metrics = []\n",
    "\n",
    "for params in itertools.product(*param_space.values()):\n",
    "\n",
    "    config = dict(zip(param_space.keys(), params))\n",
    "\n",
    "    # Setup directories\n",
    "    trial_dir = tuning_dir / '_'.join([f'{k}={v}' for k, v in config.items()])\n",
    "\n",
    "    data_dir = trial_dir / 'segger_data'\n",
    "    data_dir.mkdir(exist_ok=True, parents=True)\n",
    "    config['data_dir'] = data_dir\n",
    "\n",
    "    model_dir = trial_dir / 'models'\n",
    "    model_dir.mkdir(exist_ok=True, parents=True)\n",
    "    config['model_dir'] = model_dir\n",
    "\n",
    "    segmentation = trainable(config)\n",
    "    trial = evaluate(segmentation, predict_kwargs['score_cut'])\n",
    "    trial = pd.concat([pd.Series(config), trial])\n",
    "    metrics.append(trial)\n",
    "\n",
    "metrics = pd.DataFrame(metrics)"
   ]
  },
  {
   "cell_type": "markdown",
   "id": "dcfa5570-ada2-4102-aae0-a3830d304c5f",
   "metadata": {
    "id": "dcfa5570-ada2-4102-aae0-a3830d304c5f"
   },
   "source": [
    "### Interpreting Output Metrics\n",
    "\n",
    "The key output metrics include:\n",
    "- **`frac_assigned`**: The fraction of transcripts that were successfully assigned to a cell. A higher value indicates that the model is doing a good job associating transcripts with nuclei, which is a strong indicator of successful segmentation.\n",
    "- **`cell_size_assigned`**: The average size of cells that have assigned transcripts. This helps assess how well the model is predicting cell boundaries, with unusually large or small values indicating potential issues with segmentation accuracy.\n",
    "- **`cell_size_cc`**: The average size of connected components that were not assigned to a cell (i.e., nucleus-less regions). Large values here may suggest that transcripts are being incorrectly grouped together in the absence of a nucleus, which could indicate problems with the receptive field parameters or the segmentation process.\n",
    "\n",
    "These metrics illuminate the effectiveness of the model by highlighting both the success in associating transcripts with cells and potential areas where the model may need further tuning.\n"
   ]
  },
  {
   "cell_type": "code",
   "execution_count": null,
   "id": "1a89aed4-c53b-460f-8a6f-f690920b6829",
   "metadata": {
    "execution": {
     "iopub.status.busy": "2024-09-12T01:19:55.171961Z",
     "iopub.status.idle": "2024-09-12T01:19:55.172161Z",
     "shell.execute_reply": "2024-09-12T01:19:55.172071Z",
     "shell.execute_reply.started": "2024-09-12T01:19:55.172062Z"
    },
    "id": "1a89aed4-c53b-460f-8a6f-f690920b6829"
   },
   "outputs": [],
   "source": [
    "metrics"
   ]
  }
 ],
 "metadata": {
  "accelerator": "GPU",
  "colab": {
   "gpuType": "T4",
   "provenance": []
  },
  "kernelspec": {
   "display_name": "fengyun segger",
   "language": "python",
   "name": "fengyun"
  },
  "language_info": {
   "codemirror_mode": {
    "name": "ipython",
    "version": 3
   },
   "file_extension": ".py",
   "mimetype": "text/x-python",
   "name": "python",
   "nbconvert_exporter": "python",
   "pygments_lexer": "ipython3",
   "version": "3.11.11"
  }
 },
 "nbformat": 4,
 "nbformat_minor": 5
}
